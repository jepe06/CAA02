{
 "cells": [
  {
   "cell_type": "markdown",
   "id": "8bc76575",
   "metadata": {},
   "source": [
    "# Model NAME\n",
    "\n",
    "- small description of the model (data normalization, model type, techniques used, ...)\n",
    "\n",
    "- features used (hcpi_m, anything else?)\n",
    "\n",
    "- version (update of other model? what did you change?)"
   ]
  },
  {
   "cell_type": "code",
   "execution_count": 1,
   "id": "358929d2",
   "metadata": {},
   "outputs": [],
   "source": [
    "import pandas as pd\n",
    "import torch\n",
    "import torch.nn as nn\n",
    "import numpy as np\n",
    "import pandas as pd\n",
    "import matplotlib.pyplot as plt"
   ]
  },
  {
   "cell_type": "markdown",
   "id": "053f5937",
   "metadata": {},
   "source": [
    "read the df and filter 2010 to 2023"
   ]
  },
  {
   "cell_type": "code",
   "execution_count": 2,
   "id": "185edefe",
   "metadata": {},
   "outputs": [
    {
     "name": "stdout",
     "output_type": "stream",
     "text": [
      "(168, 185)\n"
     ]
    },
    {
     "data": {
      "text/html": [
       "<div>\n",
       "<style scoped>\n",
       "    .dataframe tbody tr th:only-of-type {\n",
       "        vertical-align: middle;\n",
       "    }\n",
       "\n",
       "    .dataframe tbody tr th {\n",
       "        vertical-align: top;\n",
       "    }\n",
       "\n",
       "    .dataframe thead th {\n",
       "        text-align: right;\n",
       "    }\n",
       "</style>\n",
       "<table border=\"1\" class=\"dataframe\">\n",
       "  <thead>\n",
       "    <tr style=\"text-align: right;\">\n",
       "      <th></th>\n",
       "      <th>ABW</th>\n",
       "      <th>AFG</th>\n",
       "      <th>AGO</th>\n",
       "      <th>ALB</th>\n",
       "      <th>ARE</th>\n",
       "      <th>ARG</th>\n",
       "      <th>ARM</th>\n",
       "      <th>ATG</th>\n",
       "      <th>AUT</th>\n",
       "      <th>AZE</th>\n",
       "      <th>...</th>\n",
       "      <th>VCT</th>\n",
       "      <th>VEN</th>\n",
       "      <th>VGB</th>\n",
       "      <th>VNM</th>\n",
       "      <th>WSM</th>\n",
       "      <th>XKX</th>\n",
       "      <th>YEM</th>\n",
       "      <th>ZAF</th>\n",
       "      <th>ZMB</th>\n",
       "      <th>ZWE</th>\n",
       "    </tr>\n",
       "  </thead>\n",
       "  <tbody>\n",
       "    <tr>\n",
       "      <th>2010-01-01</th>\n",
       "      <td>90.518</td>\n",
       "      <td>73.652677</td>\n",
       "      <td>18.297409</td>\n",
       "      <td>82.400000</td>\n",
       "      <td>88.008742</td>\n",
       "      <td>NaN</td>\n",
       "      <td>97.670572</td>\n",
       "      <td>86.417242</td>\n",
       "      <td>89.04379</td>\n",
       "      <td>97.2</td>\n",
       "      <td>...</td>\n",
       "      <td>100.0</td>\n",
       "      <td>166.5</td>\n",
       "      <td>NaN</td>\n",
       "      <td>58.542273</td>\n",
       "      <td>90.343792</td>\n",
       "      <td>87.955386</td>\n",
       "      <td>110.846</td>\n",
       "      <td>75.30460</td>\n",
       "      <td>105.0</td>\n",
       "      <td>1.871011</td>\n",
       "    </tr>\n",
       "    <tr>\n",
       "      <th>2010-02-01</th>\n",
       "      <td>90.396</td>\n",
       "      <td>72.992480</td>\n",
       "      <td>18.459746</td>\n",
       "      <td>83.600000</td>\n",
       "      <td>87.859764</td>\n",
       "      <td>NaN</td>\n",
       "      <td>97.571898</td>\n",
       "      <td>86.617995</td>\n",
       "      <td>89.20885</td>\n",
       "      <td>98.3</td>\n",
       "      <td>...</td>\n",
       "      <td>100.1</td>\n",
       "      <td>169.1</td>\n",
       "      <td>NaN</td>\n",
       "      <td>59.689701</td>\n",
       "      <td>91.718191</td>\n",
       "      <td>88.191825</td>\n",
       "      <td>111.095</td>\n",
       "      <td>75.77624</td>\n",
       "      <td>105.5</td>\n",
       "      <td>1.887481</td>\n",
       "    </tr>\n",
       "    <tr>\n",
       "      <th>2010-03-01</th>\n",
       "      <td>90.623</td>\n",
       "      <td>72.924208</td>\n",
       "      <td>18.654168</td>\n",
       "      <td>83.691822</td>\n",
       "      <td>87.943564</td>\n",
       "      <td>NaN</td>\n",
       "      <td>98.220672</td>\n",
       "      <td>86.596486</td>\n",
       "      <td>90.19913</td>\n",
       "      <td>99.6</td>\n",
       "      <td>...</td>\n",
       "      <td>100.2</td>\n",
       "      <td>173.2</td>\n",
       "      <td>NaN</td>\n",
       "      <td>60.137374</td>\n",
       "      <td>92.084697</td>\n",
       "      <td>88.113012</td>\n",
       "      <td>111.469</td>\n",
       "      <td>76.40508</td>\n",
       "      <td>106.6</td>\n",
       "      <td>1.910539</td>\n",
       "    </tr>\n",
       "  </tbody>\n",
       "</table>\n",
       "<p>3 rows × 185 columns</p>\n",
       "</div>"
      ],
      "text/plain": [
       "               ABW        AFG        AGO        ALB        ARE  ARG  \\\n",
       "2010-01-01  90.518  73.652677  18.297409  82.400000  88.008742  NaN   \n",
       "2010-02-01  90.396  72.992480  18.459746  83.600000  87.859764  NaN   \n",
       "2010-03-01  90.623  72.924208  18.654168  83.691822  87.943564  NaN   \n",
       "\n",
       "                  ARM        ATG       AUT   AZE  ...    VCT    VEN  VGB  \\\n",
       "2010-01-01  97.670572  86.417242  89.04379  97.2  ...  100.0  166.5  NaN   \n",
       "2010-02-01  97.571898  86.617995  89.20885  98.3  ...  100.1  169.1  NaN   \n",
       "2010-03-01  98.220672  86.596486  90.19913  99.6  ...  100.2  173.2  NaN   \n",
       "\n",
       "                  VNM        WSM        XKX      YEM       ZAF    ZMB  \\\n",
       "2010-01-01  58.542273  90.343792  87.955386  110.846  75.30460  105.0   \n",
       "2010-02-01  59.689701  91.718191  88.191825  111.095  75.77624  105.5   \n",
       "2010-03-01  60.137374  92.084697  88.113012  111.469  76.40508  106.6   \n",
       "\n",
       "                 ZWE  \n",
       "2010-01-01  1.871011  \n",
       "2010-02-01  1.887481  \n",
       "2010-03-01  1.910539  \n",
       "\n",
       "[3 rows x 185 columns]"
      ]
     },
     "execution_count": 2,
     "metadata": {},
     "output_type": "execute_result"
    }
   ],
   "source": [
    "hcpi = pd.read_parquet(\"data/hcpi_m.parquet\").loc[\"2010-01\":\"2023-12\"]\n",
    "\n",
    "print(hcpi.shape)\n",
    "hcpi.head(3)"
   ]
  },
  {
   "cell_type": "code",
   "execution_count": 3,
   "id": "e7783aed",
   "metadata": {},
   "outputs": [
    {
     "name": "stdout",
     "output_type": "stream",
     "text": [
      "We still have 163 countries out of 185.\n"
     ]
    }
   ],
   "source": [
    "# count columns with missing values\n",
    "missing = hcpi.isna().sum()\n",
    "print(f\"We still have {hcpi.shape[1] - len(missing[missing > 0])} countries out of {hcpi.shape[1]}.\")"
   ]
  },
  {
   "cell_type": "markdown",
   "id": "47005ec7",
   "metadata": {},
   "source": [
    "# IDENTIFYING ANOMALIES BY COUNTRY"
   ]
  },
  {
   "cell_type": "code",
   "execution_count": 4,
   "id": "fb6dc199",
   "metadata": {},
   "outputs": [
    {
     "name": "stdout",
     "output_type": "stream",
     "text": [
      "No missing values? True\n"
     ]
    },
    {
     "data": {
      "text/plain": [
       "1970-01-01      1.702706\n",
       "1970-02-01      1.680877\n",
       "1970-03-01      1.716598\n",
       "1970-04-01      1.706675\n",
       "1970-05-01      1.687823\n",
       "                 ...    \n",
       "2024-11-01    122.043000\n",
       "2024-12-01    122.173000\n",
       "2025-01-01    121.622000\n",
       "2025-02-01    121.489000\n",
       "2025-03-01    123.217000\n",
       "Name: PRT, Length: 663, dtype: float64"
      ]
     },
     "execution_count": 4,
     "metadata": {},
     "output_type": "execute_result"
    }
   ],
   "source": [
    "port_ts = pd.read_parquet(\"data/hcpi_m.parquet\").loc[:, \"PRT\"]\n",
    "print(f\"No missing values? {port_ts.isna().sum() == 0}\")\n",
    "\n",
    "port_ts"
   ]
  },
  {
   "cell_type": "markdown",
   "id": "e904a672",
   "metadata": {},
   "source": [
    "## prediction-based with scheduled online learning"
   ]
  },
  {
   "cell_type": "code",
   "execution_count": 5,
   "id": "a9dc555d",
   "metadata": {},
   "outputs": [],
   "source": [
    "class LSTMPredictor(nn.Module):\n",
    "    def __init__(self, input_dim=1, hidden_dim=16, seq_len=12):\n",
    "        super().__init__()\n",
    "        self.lstm = nn.LSTM(input_dim, hidden_dim, batch_first=True)\n",
    "        self.linear = nn.Linear(hidden_dim, 1)\n",
    "        self.seq_len = seq_len\n",
    "\n",
    "    def forward(self, x):\n",
    "        out, _ = self.lstm(x)\n",
    "        out = out[:, -1, :]  # last time step\n",
    "        out = self.linear(out)\n",
    "        return out.squeeze()\n",
    "    \n",
    "\n",
    "def make_supervised(series, seq_len):\n",
    "    X, y = [], []\n",
    "    for i in range(len(series) - seq_len):\n",
    "        X.append(series[i:i+seq_len])\n",
    "        y.append(series[i+seq_len])\n",
    "    return np.array(X), np.array(y)\n",
    "\n",
    "def normalize(series, mean=None, std=None):\n",
    "    series = np.log1p(series)\n",
    "    if mean is None:\n",
    "        mean = np.mean(series)\n",
    "        std = np.std(series)\n",
    "    return (series - mean) / std, mean, std\n",
    "\n",
    "def denormalize(norm_series, mean, std):\n",
    "    return np.expm1(norm_series * std + mean)"
   ]
  },
  {
   "cell_type": "code",
   "execution_count": 6,
   "id": "0c9007d9",
   "metadata": {},
   "outputs": [],
   "source": [
    "seq_len = 12\n",
    "initial_months = 24  # 12 context + 12 train\n",
    "retrain_every = 6    # retrain every 6 months\n",
    "\n",
    "series = port_ts.values.astype(np.float32)\n",
    "dates = port_ts.index.to_list()\n",
    "\n",
    "train_series = series[:initial_months]\n",
    "stream_series = series[initial_months:]\n",
    "stream_dates = dates[initial_months:]"
   ]
  },
  {
   "cell_type": "code",
   "execution_count": 7,
   "id": "de9fe95e",
   "metadata": {},
   "outputs": [],
   "source": [
    "# initial train, using the initial_months and the normalized() series\n",
    "train_norm, mean, std = normalize(train_series)\n",
    "X_train, y_train = make_supervised(train_norm, seq_len)\n",
    "\n",
    "X_train_tensor = torch.tensor(X_train[..., np.newaxis], dtype=torch.float32)\n",
    "y_train_tensor = torch.tensor(y_train, dtype=torch.float32)\n",
    "\n",
    "model = LSTMPredictor()\n",
    "optimizer = torch.optim.Adam(model.parameters(), lr=0.001)\n",
    "criterion = nn.MSELoss()\n",
    "\n",
    "for epoch in range(100):\n",
    "    optimizer.zero_grad()\n",
    "    out = model(X_train_tensor)\n",
    "    loss = criterion(out, y_train_tensor)\n",
    "    loss.backward()\n",
    "    optimizer.step()\n",
    "\n",
    "# define the threshold for anomaly detection\n",
    "model.eval()\n",
    "with torch.no_grad():\n",
    "    preds = model(X_train_tensor)\n",
    "    residuals = torch.abs(preds - y_train_tensor).numpy()\n",
    "    threshold = max(np.percentile(residuals, 95), 2.5)"
   ]
  },
  {
   "cell_type": "code",
   "execution_count": 8,
   "id": "59ab1f59",
   "metadata": {},
   "outputs": [
    {
     "name": "stdout",
     "output_type": "stream",
     "text": [
      "1976-10  anomaly (error=2.6302)\n",
      "1976-11  anomaly (error=2.8025)\n",
      "1976-12  anomaly (error=3.4080)\n",
      "1981-04  anomaly (error=2.5870)\n",
      "1981-05  anomaly (error=2.6518)\n",
      "1981-06  anomaly (error=2.7573)\n",
      "1981-12  anomaly (error=2.5729)\n",
      "1983-10  anomaly (error=2.5355)\n",
      "1983-11  anomaly (error=2.8018)\n",
      "1983-12  anomaly (error=3.2719)\n",
      "1988-11  anomaly (error=2.5899)\n",
      "1988-12  anomaly (error=2.8666)\n",
      "1992-06  anomaly (error=2.5138)\n",
      "2000-05  anomaly (error=2.7771)\n",
      "2000-06  anomaly (error=3.3028)\n",
      "2000-11  anomaly (error=2.7431)\n",
      "2000-12  anomaly (error=3.0773)\n",
      "2006-03  anomaly (error=2.6179)\n",
      "2006-04  anomaly (error=3.0433)\n",
      "2006-05  anomaly (error=3.3965)\n",
      "2006-06  anomaly (error=3.3507)\n",
      "2008-06  anomaly (error=2.7551)\n",
      "2010-10  anomaly (error=2.6667)\n",
      "2010-11  anomaly (error=2.9337)\n",
      "2010-12  anomaly (error=3.3922)\n",
      "2011-03  anomaly (error=3.2989)\n",
      "2011-04  anomaly (error=3.6523)\n",
      "2011-05  anomaly (error=3.5683)\n",
      "2011-06  anomaly (error=3.3339)\n",
      "2014-02  anomaly (error=2.7197)\n",
      "2015-01  anomaly (error=2.6487)\n",
      "2015-02  anomaly (error=2.8093)\n",
      "2015-05  anomaly (error=2.6866)\n",
      "2015-06  anomaly (error=2.6240)\n",
      "2017-04  anomaly (error=2.6366)\n",
      "2021-05  anomaly (error=2.5584)\n",
      "2021-06  anomaly (error=3.0014)\n",
      "2021-11  anomaly (error=2.9629)\n",
      "2021-12  anomaly (error=2.9654)\n",
      "2022-03  anomaly (error=4.1749)\n",
      "2022-04  anomaly (error=6.2360)\n",
      "2022-05  anomaly (error=7.1470)\n",
      "2022-06  anomaly (error=7.9260)\n"
     ]
    }
   ],
   "source": [
    "anomaly_dates, anomaly_values = [], []\n",
    "\n",
    "aaaaaa = []\n",
    "\n",
    "future_train_data = train_series\n",
    "\n",
    "month_counter = 0\n",
    "\n",
    "# start streaming the new data\n",
    "for t in range(seq_len, len(stream_series)):\n",
    "\n",
    "    # get the last seq_len months of data\n",
    "    window = stream_series[t-seq_len:t]\n",
    "    x = normalize(window, mean, std)[0]\n",
    "    x_tensor = torch.tensor(x[np.newaxis, :, np.newaxis], dtype=torch.float32)\n",
    "\n",
    "    # predict the next value (the current month)\n",
    "    with torch.no_grad():\n",
    "        pred = model(x_tensor).item()\n",
    "        pred_denorm = denormalize(pred, mean, std)\n",
    "        aaaaaa.append(pred_denorm)\n",
    "\n",
    "    # get the true value\n",
    "    date_t = stream_dates[t]\n",
    "    true_val = stream_series[t]\n",
    "    true_val_norm = normalize(true_val, mean, std)[0]\n",
    "\n",
    "    # check for anomalies\n",
    "    err = abs(pred - true_val_norm)\n",
    "    if err > threshold:\n",
    "        print(f\"{date_t.strftime('%Y-%m')}  anomaly (error={err:.4f})\")\n",
    "        anomaly_dates.append(date_t)\n",
    "        anomaly_values.append(true_val)\n",
    "\n",
    "    future_train_data = np.append(future_train_data, true_val)\n",
    "    month_counter += 1\n",
    "    # retrain the model if should\n",
    "    if month_counter % retrain_every == 0:\n",
    "        # get the last seq_len months of data\n",
    "        train_data = future_train_data[-(int(seq_len*1.5)):]\n",
    "        train_data_norm, mean, std = normalize(train_data)\n",
    "\n",
    "        # prepare the data for training\n",
    "        X_train, y_train = make_supervised(train_data_norm, seq_len)\n",
    "        X_train_tensor = torch.tensor(X_train[..., np.newaxis], dtype=torch.float32)\n",
    "        y_train_tensor = torch.tensor(y_train, dtype=torch.float32)\n",
    "\n",
    "        # retrain the model\n",
    "        model = LSTMPredictor()\n",
    "        optimizer = torch.optim.Adam(model.parameters(), lr=0.001)\n",
    "        for epoch in range(50):\n",
    "            optimizer.zero_grad()\n",
    "            out = model(X_train_tensor)\n",
    "            loss = criterion(out, y_train_tensor)\n",
    "            loss.backward()\n",
    "            optimizer.step()\n",
    "\n",
    "        # define the new threshold\n",
    "        model.eval()\n",
    "        with torch.no_grad():\n",
    "            preds = model(X_train_tensor)\n",
    "            residuals = torch.abs(preds - y_train_tensor).numpy()\n",
    "            threshold = max(np.percentile(residuals, 95), 2.5)"
   ]
  },
  {
   "cell_type": "code",
   "execution_count": 9,
   "id": "1030dc18",
   "metadata": {},
   "outputs": [
    {
     "data": {
      "image/png": "[encoded data removed]",
      "text/plain": [
       "<Figure size 1400x500 with 1 Axes>"
      ]
     },
     "metadata": {},
     "output_type": "display_data"
    }
   ],
   "source": [
    "plt.figure(figsize=(14, 5))\n",
    "plt.plot(dates, series, label=\"CPI\", color='blue')\n",
    "plt.axvline(x=dates[initial_months], color='gray', linestyle='--', label='Initial Train Window')\n",
    "#for d in retrain_dates:\n",
    "#    plt.axvline(x=d, color='green', linestyle='--', alpha=0.2)\n",
    "plt.scatter(anomaly_dates, anomaly_values, color='red', label='Anomaly')\n",
    "#plt.plot(all_pred_dates, all_preds, color='orange', label='Prediction')\n",
    "plt.title(\"Prediction-Based CPI Anomalies (Portugal)\")\n",
    "plt.xlabel(\"Date\")\n",
    "plt.ylabel(\"CPI\")\n",
    "plt.legend()\n",
    "plt.tight_layout()\n",
    "plt.show()"
   ]
  },
  {
   "cell_type": "code",
   "execution_count": null,
   "id": "50295038",
   "metadata": {},
   "outputs": [],
   "source": []
  }
 ],
 "metadata": {
  "kernelspec": {
   "display_name": "CAA02",
   "language": "python",
   "name": "python3"
  },
  "language_info": {
   "codemirror_mode": {
    "name": "ipython",
    "version": 3
   },
   "file_extension": ".py",
   "mimetype": "text/x-python",
   "name": "python",
   "nbconvert_exporter": "python",
   "pygments_lexer": "ipython3",
   "version": "3.10.17"
  }
 },
 "nbformat": 4,
 "nbformat_minor": 5
}
