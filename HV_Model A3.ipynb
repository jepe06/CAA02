{
 "cells": [
  {
   "cell_type": "markdown",
   "id": "8bc76575",
   "metadata": {},
   "source": [
    "# Model: Anomaly Detection using prediction-based with scheduled online learning\n",
    "\n",
    "- The model uses the prediction-based anomaly detection technique, which is based on the idea that if a model can predict the next value in a time series, it can also detect anomalies by measuring the difference between the predicted and actual values.\n",
    "\n",
    "- The model uses **LSTM**; it trains on 24 months and then at each new month (stream) it checks for anomalies and updates the model with new data every 6 months.\n",
    "\n",
    "- The **data normalization** is done using a log transformation, subtracting the mean, and dividing by the standard deviation.\n",
    "\n",
    "- This model uses **all-time hcpi_m for one country**.\n",
    "\n",
    "- Version: 0.1.0 : proof of concept\n",
    "\n",
    "- **Notes**\n",
    "\n",
    "    - The anomaly detection depends on the threshold which was empirically set to 2.5 based on my observations.\n",
    "\n",
    "    - It works only for one country at a time."
   ]
  },
  {
   "cell_type": "code",
   "execution_count": 1,
   "id": "358929d2",
   "metadata": {},
   "outputs": [],
   "source": [
    "import pandas as pd\n",
    "import torch\n",
    "import torch.nn as nn\n",
    "import numpy as np\n",
    "import pandas as pd\n",
    "import matplotlib.pyplot as plt\n",
    "import json"
   ]
  },
  {
   "cell_type": "markdown",
   "id": "b4695f8a",
   "metadata": {},
   "source": [
    "# Read the data"
   ]
  },
  {
   "cell_type": "code",
   "execution_count": 2,
   "id": "185edefe",
   "metadata": {},
   "outputs": [
    {
     "name": "stdout",
     "output_type": "stream",
     "text": [
      "(663, 185)\n"
     ]
    },
    {
     "data": {
      "text/html": [
       "<div>\n",
       "<style scoped>\n",
       "    .dataframe tbody tr th:only-of-type {\n",
       "        vertical-align: middle;\n",
       "    }\n",
       "\n",
       "    .dataframe tbody tr th {\n",
       "        vertical-align: top;\n",
       "    }\n",
       "\n",
       "    .dataframe thead th {\n",
       "        text-align: right;\n",
       "    }\n",
       "</style>\n",
       "<table border=\"1\" class=\"dataframe\">\n",
       "  <thead>\n",
       "    <tr style=\"text-align: right;\">\n",
       "      <th></th>\n",
       "      <th>ABW</th>\n",
       "      <th>AFG</th>\n",
       "      <th>AGO</th>\n",
       "      <th>ALB</th>\n",
       "      <th>ARE</th>\n",
       "      <th>ARG</th>\n",
       "      <th>ARM</th>\n",
       "      <th>ATG</th>\n",
       "      <th>AUT</th>\n",
       "      <th>AZE</th>\n",
       "      <th>...</th>\n",
       "      <th>VCT</th>\n",
       "      <th>VEN</th>\n",
       "      <th>VGB</th>\n",
       "      <th>VNM</th>\n",
       "      <th>WSM</th>\n",
       "      <th>XKX</th>\n",
       "      <th>YEM</th>\n",
       "      <th>ZAF</th>\n",
       "      <th>ZMB</th>\n",
       "      <th>ZWE</th>\n",
       "    </tr>\n",
       "  </thead>\n",
       "  <tbody>\n",
       "    <tr>\n",
       "      <th>2008-09-01</th>\n",
       "      <td>94.622</td>\n",
       "      <td>85.536812</td>\n",
       "      <td>15.301887</td>\n",
       "      <td>78.4</td>\n",
       "      <td>88.567409</td>\n",
       "      <td>NaN</td>\n",
       "      <td>NaN</td>\n",
       "      <td>86.338374</td>\n",
       "      <td>88.87875</td>\n",
       "      <td>95.6</td>\n",
       "      <td>...</td>\n",
       "      <td>102.722172</td>\n",
       "      <td>NaN</td>\n",
       "      <td>NaN</td>\n",
       "      <td>55.116651</td>\n",
       "      <td>90.252166</td>\n",
       "      <td>88.113012</td>\n",
       "      <td>NaN</td>\n",
       "      <td>70.588230</td>\n",
       "      <td>NaN</td>\n",
       "      <td>NaN</td>\n",
       "    </tr>\n",
       "    <tr>\n",
       "      <th>1988-04-01</th>\n",
       "      <td>NaN</td>\n",
       "      <td>NaN</td>\n",
       "      <td>NaN</td>\n",
       "      <td>NaN</td>\n",
       "      <td>NaN</td>\n",
       "      <td>NaN</td>\n",
       "      <td>NaN</td>\n",
       "      <td>NaN</td>\n",
       "      <td>55.74670</td>\n",
       "      <td>NaN</td>\n",
       "      <td>...</td>\n",
       "      <td>NaN</td>\n",
       "      <td>NaN</td>\n",
       "      <td>NaN</td>\n",
       "      <td>NaN</td>\n",
       "      <td>NaN</td>\n",
       "      <td>NaN</td>\n",
       "      <td>NaN</td>\n",
       "      <td>14.556010</td>\n",
       "      <td>NaN</td>\n",
       "      <td>NaN</td>\n",
       "    </tr>\n",
       "    <tr>\n",
       "      <th>1971-11-01</th>\n",
       "      <td>NaN</td>\n",
       "      <td>NaN</td>\n",
       "      <td>NaN</td>\n",
       "      <td>NaN</td>\n",
       "      <td>NaN</td>\n",
       "      <td>NaN</td>\n",
       "      <td>NaN</td>\n",
       "      <td>NaN</td>\n",
       "      <td>24.39415</td>\n",
       "      <td>NaN</td>\n",
       "      <td>...</td>\n",
       "      <td>NaN</td>\n",
       "      <td>NaN</td>\n",
       "      <td>NaN</td>\n",
       "      <td>NaN</td>\n",
       "      <td>NaN</td>\n",
       "      <td>NaN</td>\n",
       "      <td>NaN</td>\n",
       "      <td>1.980723</td>\n",
       "      <td>NaN</td>\n",
       "      <td>NaN</td>\n",
       "    </tr>\n",
       "  </tbody>\n",
       "</table>\n",
       "<p>3 rows × 185 columns</p>\n",
       "</div>"
      ],
      "text/plain": [
       "               ABW        AFG        AGO   ALB        ARE  ARG  ARM  \\\n",
       "2008-09-01  94.622  85.536812  15.301887  78.4  88.567409  NaN  NaN   \n",
       "1988-04-01     NaN        NaN        NaN   NaN        NaN  NaN  NaN   \n",
       "1971-11-01     NaN        NaN        NaN   NaN        NaN  NaN  NaN   \n",
       "\n",
       "                  ATG       AUT   AZE  ...         VCT  VEN  VGB        VNM  \\\n",
       "2008-09-01  86.338374  88.87875  95.6  ...  102.722172  NaN  NaN  55.116651   \n",
       "1988-04-01        NaN  55.74670   NaN  ...         NaN  NaN  NaN        NaN   \n",
       "1971-11-01        NaN  24.39415   NaN  ...         NaN  NaN  NaN        NaN   \n",
       "\n",
       "                  WSM        XKX  YEM        ZAF  ZMB  ZWE  \n",
       "2008-09-01  90.252166  88.113012  NaN  70.588230  NaN  NaN  \n",
       "1988-04-01        NaN        NaN  NaN  14.556010  NaN  NaN  \n",
       "1971-11-01        NaN        NaN  NaN   1.980723  NaN  NaN  \n",
       "\n",
       "[3 rows x 185 columns]"
      ]
     },
     "execution_count": 2,
     "metadata": {},
     "output_type": "execute_result"
    }
   ],
   "source": [
    "hcpi = pd.read_parquet(\"data/hcpi_m.parquet\")\n",
    "\n",
    "print(hcpi.shape)\n",
    "hcpi.sample(3)"
   ]
  },
  {
   "cell_type": "markdown",
   "id": "a4a7597b",
   "metadata": {},
   "source": [
    "*curiosity*"
   ]
  },
  {
   "cell_type": "code",
   "execution_count": 3,
   "id": "e7783aed",
   "metadata": {},
   "outputs": [
    {
     "name": "stdout",
     "output_type": "stream",
     "text": [
      "We still have 163 countries out of 185.\n"
     ]
    }
   ],
   "source": [
    "# would 2010-2023 be a good time frame?\n",
    "missing = hcpi.loc[\"2010-01\":\"2023-12\"].isna().sum()\n",
    "print(f\"We still have {hcpi.shape[1] - len(missing[missing > 0])} countries out of {hcpi.shape[1]}.\")"
   ]
  },
  {
   "cell_type": "markdown",
   "id": "47005ec7",
   "metadata": {},
   "source": [
    "# Identifying anomalies per country"
   ]
  },
  {
   "cell_type": "markdown",
   "id": "3dedcce4",
   "metadata": {},
   "source": [
    "select a random country"
   ]
  },
  {
   "cell_type": "code",
   "execution_count": 4,
   "id": "fb6dc199",
   "metadata": {},
   "outputs": [
    {
     "name": "stdout",
     "output_type": "stream",
     "text": [
      "Country: Algeria\n",
      "No missing values? True\n"
     ]
    },
    {
     "data": {
      "text/plain": [
       "2005-01-01    111.80\n",
       "2005-02-01    112.42\n",
       "2005-03-01    112.94\n",
       "2005-04-01    113.31\n",
       "2005-05-01    111.77\n",
       "               ...  \n",
       "2024-10-01    287.16\n",
       "2024-11-01    285.45\n",
       "2024-12-01    283.38\n",
       "2025-01-01    284.46\n",
       "2025-02-01    285.43\n",
       "Name: DZA, Length: 242, dtype: float64"
      ]
     },
     "execution_count": 4,
     "metadata": {},
     "output_type": "execute_result"
    }
   ],
   "source": [
    "country = hcpi.columns[np.random.randint(0, hcpi.shape[1])] #\"PRT\"\n",
    "\n",
    "with open(\"data/countries.json\", \"r\") as f:\n",
    "    countries = json.load(f)\n",
    "print(f\"Country: {countries[country]}\")\n",
    "country_name = countries[country]\n",
    "\n",
    "port_ts = hcpi.loc[:, country]\n",
    "port_ts = port_ts.dropna()\n",
    "print(f\"No missing values? {port_ts.isna().sum() == 0}\")\n",
    "\n",
    "port_ts"
   ]
  },
  {
   "cell_type": "markdown",
   "id": "392ca7cc",
   "metadata": {},
   "source": [
    "define the model and some functions"
   ]
  },
  {
   "cell_type": "code",
   "execution_count": 5,
   "id": "a9dc555d",
   "metadata": {},
   "outputs": [],
   "source": [
    "class LSTMPredictor(nn.Module):\n",
    "    def __init__(self, input_dim=1, hidden_dim=16, seq_len=12):\n",
    "        super().__init__()\n",
    "        self.lstm = nn.LSTM(input_dim, hidden_dim, batch_first=True)\n",
    "        self.linear = nn.Linear(hidden_dim, 1)\n",
    "        self.seq_len = seq_len\n",
    "\n",
    "    def forward(self, x):\n",
    "        out, _ = self.lstm(x)\n",
    "        out = out[:, -1, :]  # last time step\n",
    "        out = self.linear(out)\n",
    "        return out.squeeze()\n",
    "    \n",
    "\n",
    "def make_supervised(series, seq_len):\n",
    "    X, y = [], []\n",
    "    for i in range(len(series) - seq_len):\n",
    "        X.append(series[i:i+seq_len])\n",
    "        y.append(series[i+seq_len])\n",
    "    return np.array(X), np.array(y)\n",
    "\n",
    "def normalize(series, mean=None, std=None):\n",
    "    series = np.log1p(series)\n",
    "    if mean is None:\n",
    "        mean = np.mean(series)\n",
    "        std = np.std(series)\n",
    "    return (series - mean) / std, mean, std\n",
    "\n",
    "def denormalize(norm_series, mean, std):\n",
    "    return np.expm1(norm_series * std + mean)"
   ]
  },
  {
   "cell_type": "markdown",
   "id": "e9e0d315",
   "metadata": {},
   "source": [
    "split the data into train and future stream"
   ]
  },
  {
   "cell_type": "code",
   "execution_count": 6,
   "id": "0c9007d9",
   "metadata": {},
   "outputs": [],
   "source": [
    "seq_len = 12\n",
    "initial_months = 24  # 12 context + 12 train\n",
    "retrain_every = 6    # retrain every 6 months\n",
    "\n",
    "series = port_ts.values.astype(np.float32)\n",
    "dates = port_ts.index.to_list()\n",
    "\n",
    "train_series = series[:initial_months]\n",
    "stream_series = series[initial_months:]\n",
    "stream_dates = dates[initial_months:]"
   ]
  },
  {
   "cell_type": "markdown",
   "id": "aafd88ed",
   "metadata": {},
   "source": [
    "do the initial training"
   ]
  },
  {
   "cell_type": "code",
   "execution_count": 7,
   "id": "de9fe95e",
   "metadata": {},
   "outputs": [],
   "source": [
    "# initial train, using the initial_months and the normalized() series\n",
    "train_norm, mean, std = normalize(train_series)\n",
    "X_train, y_train = make_supervised(train_norm, seq_len)\n",
    "\n",
    "X_train_tensor = torch.tensor(X_train[..., np.newaxis], dtype=torch.float32)\n",
    "y_train_tensor = torch.tensor(y_train, dtype=torch.float32)\n",
    "\n",
    "model = LSTMPredictor()\n",
    "optimizer = torch.optim.Adam(model.parameters(), lr=0.001)\n",
    "criterion = nn.MSELoss()\n",
    "\n",
    "for epoch in range(100):\n",
    "    optimizer.zero_grad()\n",
    "    out = model(X_train_tensor)\n",
    "    loss = criterion(out, y_train_tensor)\n",
    "    loss.backward()\n",
    "    optimizer.step()\n",
    "\n",
    "# define the threshold for anomaly detection\n",
    "model.eval()\n",
    "with torch.no_grad():\n",
    "    preds = model(X_train_tensor)\n",
    "    residuals = torch.abs(preds - y_train_tensor).numpy()\n",
    "    threshold = max(np.percentile(residuals, 95), 2.5) #np.std(residuals) * 6"
   ]
  },
  {
   "cell_type": "markdown",
   "id": "e97b5ae4",
   "metadata": {},
   "source": [
    "stream the data\n",
    "\n",
    "- stream\n",
    "\n",
    "- check if $t$ is an anomaly\n",
    "\n",
    "- update the model if $t$ is the 6th month"
   ]
  },
  {
   "cell_type": "code",
   "execution_count": 8,
   "id": "59ab1f59",
   "metadata": {},
   "outputs": [
    {
     "name": "stdout",
     "output_type": "stream",
     "text": [
      "2008-01  anomaly (error=2.6425)\n",
      "2008-02  anomaly (error=3.2198)\n",
      "2008-03  anomaly (error=4.3994)\n",
      "2008-04  anomaly (error=4.4044)\n",
      "2008-05  anomaly (error=4.2997)\n",
      "2008-06  anomaly (error=3.6805)\n",
      "2011-08  anomaly (error=2.6408)\n",
      "2011-10  anomaly (error=2.5595)\n",
      "2011-11  anomaly (error=2.7265)\n",
      "2012-03  anomaly (error=2.9962)\n",
      "2012-04  anomaly (error=3.3304)\n",
      "2012-05  anomaly (error=2.8144)\n",
      "2012-06  anomaly (error=2.6799)\n",
      "2014-07  anomaly (error=2.8898)\n",
      "2014-08  anomaly (error=3.3251)\n",
      "2014-09  anomaly (error=4.2004)\n",
      "2014-10  anomaly (error=6.6960)\n",
      "2014-11  anomaly (error=6.0144)\n",
      "2014-12  anomaly (error=5.8019)\n",
      "2016-04  anomaly (error=2.6813)\n",
      "2016-05  anomaly (error=3.0293)\n",
      "2016-06  anomaly (error=3.7236)\n",
      "2020-10  anomaly (error=3.1123)\n",
      "2020-11  anomaly (error=2.7367)\n",
      "2020-12  anomaly (error=2.8024)\n",
      "2021-03  anomaly (error=2.9390)\n",
      "2021-04  anomaly (error=3.9895)\n",
      "2021-05  anomaly (error=3.9572)\n",
      "2021-06  anomaly (error=3.6981)\n",
      "2021-09  anomaly (error=2.6483)\n",
      "2021-10  anomaly (error=3.0716)\n",
      "2021-11  anomaly (error=2.9229)\n",
      "2021-12  anomaly (error=2.6508)\n"
     ]
    }
   ],
   "source": [
    "anomaly_dates, anomaly_values = [], []\n",
    "\n",
    "future_train_data = train_series\n",
    "\n",
    "month_counter = 0\n",
    "\n",
    "# start streaming the new data\n",
    "for t in range(seq_len, len(stream_series)):\n",
    "\n",
    "    # get the last seq_len months of data\n",
    "    window = stream_series[t-seq_len:t]\n",
    "    x = normalize(window, mean, std)[0]\n",
    "    x_tensor = torch.tensor(x[np.newaxis, :, np.newaxis], dtype=torch.float32)\n",
    "\n",
    "    # predict the next value (the current month)\n",
    "    with torch.no_grad():\n",
    "        pred = model(x_tensor).item()\n",
    "        pred_denorm = denormalize(pred, mean, std)\n",
    "\n",
    "    # get the true value\n",
    "    date_t = stream_dates[t]\n",
    "    true_val = stream_series[t]\n",
    "    true_val_norm = normalize(true_val, mean, std)[0]\n",
    "\n",
    "    # check for anomalies\n",
    "    err = abs(pred - true_val_norm)\n",
    "    if err > threshold:\n",
    "        print(f\"{date_t.strftime('%Y-%m')}  anomaly (error={err:.4f})\")\n",
    "        anomaly_dates.append(date_t)\n",
    "        anomaly_values.append(true_val)\n",
    "\n",
    "    future_train_data = np.append(future_train_data, true_val)\n",
    "    month_counter += 1\n",
    "    # retrain the model if should\n",
    "    if month_counter % retrain_every == 0:\n",
    "        # get the last seq_len months of data\n",
    "        train_data = future_train_data[-(int(seq_len*1.5)):]\n",
    "        train_data_norm, mean, std = normalize(train_data)\n",
    "\n",
    "        # prepare the data for training\n",
    "        X_train, y_train = make_supervised(train_data_norm, seq_len)\n",
    "        X_train_tensor = torch.tensor(X_train[..., np.newaxis], dtype=torch.float32)\n",
    "        y_train_tensor = torch.tensor(y_train, dtype=torch.float32)\n",
    "\n",
    "        # retrain the model\n",
    "        model = LSTMPredictor()\n",
    "        optimizer = torch.optim.Adam(model.parameters(), lr=0.001)\n",
    "        for epoch in range(50):\n",
    "            optimizer.zero_grad()\n",
    "            out = model(X_train_tensor)\n",
    "            loss = criterion(out, y_train_tensor)\n",
    "            loss.backward()\n",
    "            optimizer.step()\n",
    "\n",
    "        # define the new threshold\n",
    "        model.eval()\n",
    "        with torch.no_grad():\n",
    "            preds = model(X_train_tensor)\n",
    "            residuals = torch.abs(preds - y_train_tensor).numpy()\n",
    "            threshold = max(np.percentile(residuals, 95), 2.5) #np.std(residuals) * 6"
   ]
  },
  {
   "cell_type": "markdown",
   "id": "c17a346f",
   "metadata": {},
   "source": [
    "plot the anomalies"
   ]
  },
  {
   "cell_type": "code",
   "execution_count": 9,
   "id": "1030dc18",
   "metadata": {},
   "outputs": [
    {
     "data": {
      "image/png": "[encoded data removed]",
      "text/plain": [
       "<Figure size 1400x500 with 1 Axes>"
      ]
     },
     "metadata": {},
     "output_type": "display_data"
    }
   ],
   "source": [
    "plt.figure(figsize=(14, 5))\n",
    "plt.plot(dates, series, label=\"CPI\", color='blue')\n",
    "plt.axvline(x=dates[initial_months], color='gray', linestyle='--', label='Initial Train Window')\n",
    "plt.scatter(anomaly_dates, anomaly_values, color='red', label='Anomaly')\n",
    "\n",
    "plt.title(f\"Prediction-Based CPI Anomalies ({country_name})\")\n",
    "plt.xlabel(\"Date\")\n",
    "plt.ylabel(\"CPI\")\n",
    "plt.legend()\n",
    "plt.yscale(\"log\")\n",
    "plt.tight_layout()\n",
    "plt.show()"
   ]
  },
  {
   "cell_type": "code",
   "execution_count": null,
   "id": "50295038",
   "metadata": {},
   "outputs": [],
   "source": []
  }
 ],
 "metadata": {
  "kernelspec": {
   "display_name": "CAA02",
   "language": "python",
   "name": "python3"
  },
  "language_info": {
   "codemirror_mode": {
    "name": "ipython",
    "version": 3
   },
   "file_extension": ".py",
   "mimetype": "text/x-python",
   "name": "python",
   "nbconvert_exporter": "python",
   "pygments_lexer": "ipython3",
   "version": "3.10.17"
  }
 },
 "nbformat": 4,
 "nbformat_minor": 5
}
