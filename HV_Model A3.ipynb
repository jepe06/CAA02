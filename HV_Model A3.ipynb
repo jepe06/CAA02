{
 "cells": [
  {
   "cell_type": "markdown",
   "id": "8bc76575",
   "metadata": {},
   "source": [
    "# Model: Anomaly Detection using prediction-based with scheduled online learning\n",
    "\n",
    "- The model uses the prediction-based anomaly detection technique, which is based on the idea that if a model can predict the next value in a time series, it can also detect anomalies by measuring the difference between the predicted and actual values.\n",
    "\n",
    "- The model uses **LSTM**; it trains on 24 months and then at each new month (stream) it checks for anomalies and updates the model with new data every 6 months.\n",
    "\n",
    "- The **data normalization** is done using a log transformation, subtracting the mean, and dividing by the standard deviation.\n",
    "\n",
    "- This model uses **all-time hcpi_m for one country**.\n",
    "\n",
    "- Version: 0.1.0 : proof of concept\n",
    "\n",
    "- **Notes**\n",
    "\n",
    "    - The anomaly detection depends on the threshold which was empirically set to 2.5 based on my observations.\n",
    "\n",
    "    - It works only for one country at a time."
   ]
  },
  {
   "cell_type": "code",
   "execution_count": 1,
   "id": "358929d2",
   "metadata": {},
   "outputs": [],
   "source": [
    "import pandas as pd\n",
    "import torch\n",
    "import torch.nn as nn\n",
    "import numpy as np\n",
    "import pandas as pd\n",
    "import matplotlib.pyplot as plt\n",
    "import json"
   ]
  },
  {
   "cell_type": "markdown",
   "id": "b4695f8a",
   "metadata": {},
   "source": [
    "# Read the data"
   ]
  },
  {
   "cell_type": "code",
   "execution_count": 2,
   "id": "185edefe",
   "metadata": {},
   "outputs": [
    {
     "name": "stdout",
     "output_type": "stream",
     "text": [
      "(663, 185)\n"
     ]
    },
    {
     "data": {
      "text/html": [
       "<div>\n",
       "<style scoped>\n",
       "    .dataframe tbody tr th:only-of-type {\n",
       "        vertical-align: middle;\n",
       "    }\n",
       "\n",
       "    .dataframe tbody tr th {\n",
       "        vertical-align: top;\n",
       "    }\n",
       "\n",
       "    .dataframe thead th {\n",
       "        text-align: right;\n",
       "    }\n",
       "</style>\n",
       "<table border=\"1\" class=\"dataframe\">\n",
       "  <thead>\n",
       "    <tr style=\"text-align: right;\">\n",
       "      <th></th>\n",
       "      <th>ABW</th>\n",
       "      <th>AFG</th>\n",
       "      <th>AGO</th>\n",
       "      <th>ALB</th>\n",
       "      <th>ARE</th>\n",
       "      <th>ARG</th>\n",
       "      <th>ARM</th>\n",
       "      <th>ATG</th>\n",
       "      <th>AUT</th>\n",
       "      <th>AZE</th>\n",
       "      <th>...</th>\n",
       "      <th>VCT</th>\n",
       "      <th>VEN</th>\n",
       "      <th>VGB</th>\n",
       "      <th>VNM</th>\n",
       "      <th>WSM</th>\n",
       "      <th>XKX</th>\n",
       "      <th>YEM</th>\n",
       "      <th>ZAF</th>\n",
       "      <th>ZMB</th>\n",
       "      <th>ZWE</th>\n",
       "    </tr>\n",
       "  </thead>\n",
       "  <tbody>\n",
       "    <tr>\n",
       "      <th>2011-08-01</th>\n",
       "      <td>96.844</td>\n",
       "      <td>86.0933</td>\n",
       "      <td>22.369316</td>\n",
       "      <td>84.682627</td>\n",
       "      <td>89.200565</td>\n",
       "      <td>NaN</td>\n",
       "      <td>103.95914</td>\n",
       "      <td>91.278346</td>\n",
       "      <td>93.53116</td>\n",
       "      <td>106.9</td>\n",
       "      <td>...</td>\n",
       "      <td>105.0</td>\n",
       "      <td>246.9</td>\n",
       "      <td>NaN</td>\n",
       "      <td>74.661952</td>\n",
       "      <td>96.333639</td>\n",
       "      <td>95.285002</td>\n",
       "      <td>142.942049</td>\n",
       "      <td>81.12144</td>\n",
       "      <td>116.6</td>\n",
       "      <td>1.97642</td>\n",
       "    </tr>\n",
       "    <tr>\n",
       "      <th>1978-09-01</th>\n",
       "      <td>NaN</td>\n",
       "      <td>NaN</td>\n",
       "      <td>NaN</td>\n",
       "      <td>NaN</td>\n",
       "      <td>NaN</td>\n",
       "      <td>NaN</td>\n",
       "      <td>NaN</td>\n",
       "      <td>NaN</td>\n",
       "      <td>38.31095</td>\n",
       "      <td>NaN</td>\n",
       "      <td>...</td>\n",
       "      <td>NaN</td>\n",
       "      <td>NaN</td>\n",
       "      <td>NaN</td>\n",
       "      <td>NaN</td>\n",
       "      <td>NaN</td>\n",
       "      <td>NaN</td>\n",
       "      <td>NaN</td>\n",
       "      <td>4.00751</td>\n",
       "      <td>NaN</td>\n",
       "      <td>NaN</td>\n",
       "    </tr>\n",
       "    <tr>\n",
       "      <th>1997-06-01</th>\n",
       "      <td>NaN</td>\n",
       "      <td>NaN</td>\n",
       "      <td>NaN</td>\n",
       "      <td>NaN</td>\n",
       "      <td>NaN</td>\n",
       "      <td>NaN</td>\n",
       "      <td>NaN</td>\n",
       "      <td>NaN</td>\n",
       "      <td>71.83054</td>\n",
       "      <td>NaN</td>\n",
       "      <td>...</td>\n",
       "      <td>NaN</td>\n",
       "      <td>NaN</td>\n",
       "      <td>NaN</td>\n",
       "      <td>NaN</td>\n",
       "      <td>NaN</td>\n",
       "      <td>NaN</td>\n",
       "      <td>NaN</td>\n",
       "      <td>38.78532</td>\n",
       "      <td>NaN</td>\n",
       "      <td>NaN</td>\n",
       "    </tr>\n",
       "  </tbody>\n",
       "</table>\n",
       "<p>3 rows × 185 columns</p>\n",
       "</div>"
      ],
      "text/plain": [
       "               ABW      AFG        AGO        ALB        ARE  ARG        ARM  \\\n",
       "2011-08-01  96.844  86.0933  22.369316  84.682627  89.200565  NaN  103.95914   \n",
       "1978-09-01     NaN      NaN        NaN        NaN        NaN  NaN        NaN   \n",
       "1997-06-01     NaN      NaN        NaN        NaN        NaN  NaN        NaN   \n",
       "\n",
       "                  ATG       AUT    AZE  ...    VCT    VEN  VGB        VNM  \\\n",
       "2011-08-01  91.278346  93.53116  106.9  ...  105.0  246.9  NaN  74.661952   \n",
       "1978-09-01        NaN  38.31095    NaN  ...    NaN    NaN  NaN        NaN   \n",
       "1997-06-01        NaN  71.83054    NaN  ...    NaN    NaN  NaN        NaN   \n",
       "\n",
       "                  WSM        XKX         YEM       ZAF    ZMB      ZWE  \n",
       "2011-08-01  96.333639  95.285002  142.942049  81.12144  116.6  1.97642  \n",
       "1978-09-01        NaN        NaN         NaN   4.00751    NaN      NaN  \n",
       "1997-06-01        NaN        NaN         NaN  38.78532    NaN      NaN  \n",
       "\n",
       "[3 rows x 185 columns]"
      ]
     },
     "execution_count": 2,
     "metadata": {},
     "output_type": "execute_result"
    }
   ],
   "source": [
    "hcpi = pd.read_parquet(\"data/hcpi_m.parquet\")\n",
    "\n",
    "print(hcpi.shape)\n",
    "hcpi.sample(3)"
   ]
  },
  {
   "cell_type": "markdown",
   "id": "47005ec7",
   "metadata": {},
   "source": [
    "# Identifying anomalies per country"
   ]
  },
  {
   "cell_type": "markdown",
   "id": "3dedcce4",
   "metadata": {},
   "source": [
    "select a random country"
   ]
  },
  {
   "cell_type": "code",
   "execution_count": null,
   "id": "fb6dc199",
   "metadata": {},
   "outputs": [
    {
     "name": "stdout",
     "output_type": "stream",
     "text": [
      "Country: Portugal\n",
      "No missing values? True\n"
     ]
    },
    {
     "data": {
      "text/plain": [
       "1970-01-01      1.702706\n",
       "1970-02-01      1.680877\n",
       "1970-03-01      1.716598\n",
       "1970-04-01      1.706675\n",
       "1970-05-01      1.687823\n",
       "                 ...    \n",
       "2024-11-01    122.043000\n",
       "2024-12-01    122.173000\n",
       "2025-01-01    121.622000\n",
       "2025-02-01    121.489000\n",
       "2025-03-01    123.217000\n",
       "Name: PRT, Length: 663, dtype: float64"
      ]
     },
     "execution_count": 3,
     "metadata": {},
     "output_type": "execute_result"
    }
   ],
   "source": [
    "country = hcpi.columns[np.random.randint(0, hcpi.shape[1])] #\"PRT\"\n",
    "\n",
    "with open(\"data/countries.json\", \"r\") as f:\n",
    "    countries = json.load(f)\n",
    "print(f\"Country: {countries[country]}\")\n",
    "country_name = countries[country]\n",
    "\n",
    "port_ts = hcpi.loc[:, country]\n",
    "port_ts = port_ts.dropna()\n",
    "print(f\"No missing values? {port_ts.isna().sum() == 0}\")\n",
    "\n",
    "port_ts"
   ]
  },
  {
   "cell_type": "markdown",
   "id": "392ca7cc",
   "metadata": {},
   "source": [
    "define the model and some functions"
   ]
  },
  {
   "cell_type": "code",
   "execution_count": 4,
   "id": "a9dc555d",
   "metadata": {},
   "outputs": [],
   "source": [
    "class LSTMPredictor(nn.Module):\n",
    "    def __init__(self, input_dim=1, hidden_dim=16, seq_len=12):\n",
    "        super().__init__()\n",
    "        self.lstm = nn.LSTM(input_dim, hidden_dim, batch_first=True)\n",
    "        self.linear = nn.Linear(hidden_dim, 1)\n",
    "        self.seq_len = seq_len\n",
    "\n",
    "    def forward(self, x):\n",
    "        out, _ = self.lstm(x)\n",
    "        out = out[:, -1, :]  # last time step\n",
    "        out = self.linear(out)\n",
    "        return out.squeeze()\n",
    "    \n",
    "\n",
    "def make_supervised(series, seq_len):\n",
    "    X, y = [], []\n",
    "    for i in range(len(series) - seq_len):\n",
    "        X.append(series[i:i+seq_len])\n",
    "        y.append(series[i+seq_len])\n",
    "    return np.array(X), np.array(y)\n",
    "\n",
    "def normalize(series, mean=None, std=None):\n",
    "    series = np.log1p(series)\n",
    "    if mean is None:\n",
    "        mean = np.mean(series)\n",
    "        std = np.std(series)\n",
    "    return (series - mean) / std, mean, std\n",
    "\n",
    "def denormalize(norm_series, mean, std):\n",
    "    return np.expm1(norm_series * std + mean)"
   ]
  },
  {
   "cell_type": "markdown",
   "id": "e9e0d315",
   "metadata": {},
   "source": [
    "split the data into train and future stream"
   ]
  },
  {
   "cell_type": "code",
   "execution_count": 5,
   "id": "0c9007d9",
   "metadata": {},
   "outputs": [],
   "source": [
    "seq_len = 12\n",
    "initial_months = 24  # 12 context + 12 train\n",
    "retrain_every = 6    # retrain every 6 months\n",
    "\n",
    "series = port_ts.values.astype(np.float32)\n",
    "dates = port_ts.index.to_list()\n",
    "\n",
    "train_series = series[:initial_months]\n",
    "stream_series = series[initial_months:]\n",
    "stream_dates = dates[initial_months:]"
   ]
  },
  {
   "cell_type": "markdown",
   "id": "aafd88ed",
   "metadata": {},
   "source": [
    "do the initial training"
   ]
  },
  {
   "cell_type": "code",
   "execution_count": 6,
   "id": "de9fe95e",
   "metadata": {},
   "outputs": [],
   "source": [
    "# initial train, using the initial_months and the normalized() series\n",
    "train_norm, mean, std = normalize(train_series)\n",
    "X_train, y_train = make_supervised(train_norm, seq_len)\n",
    "\n",
    "X_train_tensor = torch.tensor(X_train[..., np.newaxis], dtype=torch.float32)\n",
    "y_train_tensor = torch.tensor(y_train, dtype=torch.float32)\n",
    "\n",
    "model = LSTMPredictor()\n",
    "optimizer = torch.optim.Adam(model.parameters(), lr=0.001)\n",
    "criterion = nn.MSELoss()\n",
    "\n",
    "for epoch in range(100):\n",
    "    optimizer.zero_grad()\n",
    "    out = model(X_train_tensor)\n",
    "    loss = criterion(out, y_train_tensor)\n",
    "    loss.backward()\n",
    "    optimizer.step()\n",
    "\n",
    "# define the threshold for anomaly detection\n",
    "model.eval()\n",
    "with torch.no_grad():\n",
    "    preds = model(X_train_tensor)\n",
    "    residuals = torch.abs(preds - y_train_tensor).numpy()\n",
    "    threshold = max(np.percentile(residuals, 95), 2.5) #np.std(residuals) * 6"
   ]
  },
  {
   "cell_type": "markdown",
   "id": "e97b5ae4",
   "metadata": {},
   "source": [
    "stream the data\n",
    "\n",
    "- stream\n",
    "\n",
    "- check if $t$ is an anomaly\n",
    "\n",
    "- update the model if $t$ is the 6th month"
   ]
  },
  {
   "cell_type": "code",
   "execution_count": 7,
   "id": "59ab1f59",
   "metadata": {},
   "outputs": [
    {
     "name": "stdout",
     "output_type": "stream",
     "text": [
      "1976-10  anomaly (error=2.8599)\n",
      "1976-11  anomaly (error=3.0131)\n",
      "1976-12  anomaly (error=3.6053)\n",
      "1977-04  anomaly (error=2.5301)\n",
      "1977-05  anomaly (error=2.6291)\n",
      "1977-06  anomaly (error=2.6384)\n",
      "1979-05  anomaly (error=2.5941)\n",
      "1979-06  anomaly (error=2.5999)\n",
      "1981-06  anomaly (error=2.5867)\n",
      "1981-10  anomaly (error=2.5882)\n",
      "1981-11  anomaly (error=2.7494)\n",
      "1981-12  anomaly (error=3.1197)\n",
      "1983-06  anomaly (error=2.6370)\n",
      "1983-12  anomaly (error=2.6547)\n",
      "1988-11  anomaly (error=2.7468)\n",
      "1988-12  anomaly (error=3.0369)\n",
      "1998-05  anomaly (error=2.7875)\n",
      "1998-06  anomaly (error=2.8994)\n",
      "1998-11  anomaly (error=2.6751)\n",
      "1998-12  anomaly (error=3.0216)\n",
      "2000-06  anomaly (error=2.9725)\n",
      "2000-11  anomaly (error=2.8481)\n",
      "2000-12  anomaly (error=3.1713)\n",
      "2001-06  anomaly (error=2.5910)\n",
      "2005-12  anomaly (error=2.5253)\n",
      "2006-04  anomaly (error=2.5624)\n",
      "2006-05  anomaly (error=2.9021)\n",
      "2006-06  anomaly (error=2.8437)\n",
      "2008-06  anomaly (error=2.7289)\n",
      "2010-06  anomaly (error=2.6403)\n",
      "2010-10  anomaly (error=2.8255)\n",
      "2010-11  anomaly (error=3.1105)\n",
      "2010-12  anomaly (error=3.5856)\n",
      "2011-03  anomaly (error=3.5242)\n",
      "2011-04  anomaly (error=3.8972)\n",
      "2011-05  anomaly (error=3.8244)\n",
      "2011-06  anomaly (error=3.5833)\n",
      "2014-02  anomaly (error=2.8958)\n",
      "2015-01  anomaly (error=2.6094)\n",
      "2015-02  anomaly (error=2.9464)\n",
      "2015-05  anomaly (error=2.7548)\n",
      "2015-06  anomaly (error=2.8318)\n",
      "2017-04  anomaly (error=2.5634)\n",
      "2021-06  anomaly (error=2.8758)\n",
      "2021-11  anomaly (error=2.5468)\n",
      "2022-03  anomaly (error=4.0496)\n",
      "2022-04  anomaly (error=6.1040)\n",
      "2022-05  anomaly (error=7.0379)\n",
      "2022-06  anomaly (error=7.8364)\n",
      "2022-11  anomaly (error=2.5513)\n"
     ]
    }
   ],
   "source": [
    "anomaly_dates, anomaly_values = [], []\n",
    "\n",
    "future_train_data = train_series\n",
    "\n",
    "month_counter = 0\n",
    "\n",
    "# start streaming the new data\n",
    "for t in range(seq_len, len(stream_series)):\n",
    "\n",
    "    # get the last seq_len months of data\n",
    "    window = stream_series[t-seq_len:t]\n",
    "    x = normalize(window, mean, std)[0]\n",
    "    x_tensor = torch.tensor(x[np.newaxis, :, np.newaxis], dtype=torch.float32)\n",
    "\n",
    "    # predict the next value (the current month)\n",
    "    with torch.no_grad():\n",
    "        pred = model(x_tensor).item()\n",
    "        pred_denorm = denormalize(pred, mean, std)\n",
    "\n",
    "    # get the true value\n",
    "    date_t = stream_dates[t]\n",
    "    true_val = stream_series[t]\n",
    "    true_val_norm = normalize(true_val, mean, std)[0]\n",
    "\n",
    "    # check for anomalies\n",
    "    err = abs(pred - true_val_norm)\n",
    "    if err > threshold:\n",
    "        print(f\"{date_t.strftime('%Y-%m')}  anomaly (error={err:.4f})\")\n",
    "        anomaly_dates.append(date_t)\n",
    "        anomaly_values.append(true_val)\n",
    "\n",
    "    future_train_data = np.append(future_train_data, true_val)\n",
    "    month_counter += 1\n",
    "    # retrain the model if should\n",
    "    if month_counter % retrain_every == 0:\n",
    "        # get the last seq_len months of data\n",
    "        train_data = future_train_data[-(int(seq_len*1.5)):]\n",
    "        train_data_norm, mean, std = normalize(train_data)\n",
    "\n",
    "        # prepare the data for training\n",
    "        X_train, y_train = make_supervised(train_data_norm, seq_len)\n",
    "        X_train_tensor = torch.tensor(X_train[..., np.newaxis], dtype=torch.float32)\n",
    "        y_train_tensor = torch.tensor(y_train, dtype=torch.float32)\n",
    "\n",
    "        # retrain the model\n",
    "        model = LSTMPredictor()\n",
    "        optimizer = torch.optim.Adam(model.parameters(), lr=0.001)\n",
    "        for epoch in range(50):\n",
    "            optimizer.zero_grad()\n",
    "            out = model(X_train_tensor)\n",
    "            loss = criterion(out, y_train_tensor)\n",
    "            loss.backward()\n",
    "            optimizer.step()\n",
    "\n",
    "        # define the new threshold\n",
    "        model.eval()\n",
    "        with torch.no_grad():\n",
    "            preds = model(X_train_tensor)\n",
    "            residuals = torch.abs(preds - y_train_tensor).numpy()\n",
    "            threshold = max(np.percentile(residuals, 95), 2.5) #np.std(residuals) * 6"
   ]
  },
  {
   "cell_type": "markdown",
   "id": "c17a346f",
   "metadata": {},
   "source": [
    "plot the anomalies"
   ]
  },
  {
   "cell_type": "code",
   "execution_count": null,
   "id": "1030dc18",
   "metadata": {},
   "outputs": [
    {
     "data": {
      "image/png": "[encoded data removed]",
      "text/plain": [
       "<Figure size 1400x500 with 1 Axes>"
      ]
     },
     "metadata": {},
     "output_type": "display_data"
    }
   ],
   "source": [
    "plt.figure(figsize=(14, 5))\n",
    "plt.plot(dates, series, label=\"CPI\", color='blue')\n",
    "plt.axvline(x=dates[initial_months], color='gray', linestyle='--', label='Initial Train Window')\n",
    "plt.scatter(anomaly_dates, anomaly_values, color='red', label='Anomaly')\n",
    "\n",
    "plt.title(f\"Prediction-Based CPI Anomalies ({country_name})\")\n",
    "plt.xlabel(\"Date\")\n",
    "plt.ylabel(\"CPI\")\n",
    "plt.legend()\n",
    "plt.yscale(\"log\")\n",
    "plt.tight_layout()\n",
    "plt.show()"
   ]
  },
  {
   "cell_type": "code",
   "execution_count": null,
   "id": "50295038",
   "metadata": {},
   "outputs": [],
   "source": []
  }
 ],
 "metadata": {
  "kernelspec": {
   "display_name": "CAA02",
   "language": "python",
   "name": "python3"
  },
  "language_info": {
   "codemirror_mode": {
    "name": "ipython",
    "version": 3
   },
   "file_extension": ".py",
   "mimetype": "text/x-python",
   "name": "python",
   "nbconvert_exporter": "python",
   "pygments_lexer": "ipython3",
   "version": "3.10.17"
  }
 },
 "nbformat": 4,
 "nbformat_minor": 5
}
