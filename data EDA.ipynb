{
 "cells": [
  {
   "cell_type": "markdown",
   "id": "25f02200",
   "metadata": {},
   "source": [
    "# HCPI_M EDA"
   ]
  },
  {
   "cell_type": "code",
   "execution_count": 193,
   "id": "6835943e",
   "metadata": {},
   "outputs": [],
   "source": [
    "import pandas as pd\n",
    "import matplotlib.pyplot as plt\n",
    "\n",
    "plt.rcParams.update({\n",
    "    \"text.usetex\": True,                # If you want to use LaTeX fonts in text\n",
    "    \"font.family\": \"serif\",             # IEEE uses Times New Roman-like fonts\n",
    "    \"font.size\": 12,                    # General font size for IEEE format\n",
    "    #\"axes.labelsize\": 12,               # Axis labels font size\n",
    "    #\"legend.fontsize\": 11,              # Legend font size\n",
    "    #\"xtick.labelsize\": 11,              # X-axis tick labels font size\n",
    "    #\"ytick.labelsize\": 11,              # Y-axis tick labels font size\n",
    "    \"figure.figsize\": (5, 5*0.8),\n",
    "    \"savefig.dpi\": 300,                 # DPI for high-quality PNG/JPEG\n",
    "    \"figure.dpi\": 100,                  # DPI for high-quality figure\n",
    "})"
   ]
  },
  {
   "cell_type": "code",
   "execution_count": 194,
   "id": "3526581e",
   "metadata": {},
   "outputs": [
    {
     "data": {
      "text/html": [
       "<div>\n",
       "<style scoped>\n",
       "    .dataframe tbody tr th:only-of-type {\n",
       "        vertical-align: middle;\n",
       "    }\n",
       "\n",
       "    .dataframe tbody tr th {\n",
       "        vertical-align: top;\n",
       "    }\n",
       "\n",
       "    .dataframe thead th {\n",
       "        text-align: right;\n",
       "    }\n",
       "</style>\n",
       "<table border=\"1\" class=\"dataframe\">\n",
       "  <thead>\n",
       "    <tr style=\"text-align: right;\">\n",
       "      <th></th>\n",
       "      <th>Country</th>\n",
       "      <th>1970-01-01 00:00:00</th>\n",
       "      <th>1970-02-01 00:00:00</th>\n",
       "      <th>1970-03-01 00:00:00</th>\n",
       "      <th>1970-04-01 00:00:00</th>\n",
       "      <th>1970-05-01 00:00:00</th>\n",
       "      <th>1970-06-01 00:00:00</th>\n",
       "      <th>1970-07-01 00:00:00</th>\n",
       "      <th>1970-08-01 00:00:00</th>\n",
       "      <th>1970-09-01 00:00:00</th>\n",
       "      <th>...</th>\n",
       "      <th>2024-06-01 00:00:00</th>\n",
       "      <th>2024-07-01 00:00:00</th>\n",
       "      <th>2024-08-01 00:00:00</th>\n",
       "      <th>2024-09-01 00:00:00</th>\n",
       "      <th>2024-10-01 00:00:00</th>\n",
       "      <th>2024-11-01 00:00:00</th>\n",
       "      <th>2024-12-01 00:00:00</th>\n",
       "      <th>2025-01-01 00:00:00</th>\n",
       "      <th>2025-02-01 00:00:00</th>\n",
       "      <th>2025-03-01 00:00:00</th>\n",
       "    </tr>\n",
       "    <tr>\n",
       "      <th>Country Code</th>\n",
       "      <th></th>\n",
       "      <th></th>\n",
       "      <th></th>\n",
       "      <th></th>\n",
       "      <th></th>\n",
       "      <th></th>\n",
       "      <th></th>\n",
       "      <th></th>\n",
       "      <th></th>\n",
       "      <th></th>\n",
       "      <th></th>\n",
       "      <th></th>\n",
       "      <th></th>\n",
       "      <th></th>\n",
       "      <th></th>\n",
       "      <th></th>\n",
       "      <th></th>\n",
       "      <th></th>\n",
       "      <th></th>\n",
       "      <th></th>\n",
       "      <th></th>\n",
       "    </tr>\n",
       "  </thead>\n",
       "  <tbody>\n",
       "    <tr>\n",
       "      <th>ABW</th>\n",
       "      <td>Aruba</td>\n",
       "      <td>NaN</td>\n",
       "      <td>NaN</td>\n",
       "      <td>NaN</td>\n",
       "      <td>NaN</td>\n",
       "      <td>NaN</td>\n",
       "      <td>NaN</td>\n",
       "      <td>NaN</td>\n",
       "      <td>NaN</td>\n",
       "      <td>NaN</td>\n",
       "      <td>...</td>\n",
       "      <td>NaN</td>\n",
       "      <td>NaN</td>\n",
       "      <td>NaN</td>\n",
       "      <td>NaN</td>\n",
       "      <td>NaN</td>\n",
       "      <td>NaN</td>\n",
       "      <td>NaN</td>\n",
       "      <td>NaN</td>\n",
       "      <td>NaN</td>\n",
       "      <td>NaN</td>\n",
       "    </tr>\n",
       "    <tr>\n",
       "      <th>AFG</th>\n",
       "      <td>Afghanistan</td>\n",
       "      <td>NaN</td>\n",
       "      <td>NaN</td>\n",
       "      <td>NaN</td>\n",
       "      <td>NaN</td>\n",
       "      <td>NaN</td>\n",
       "      <td>NaN</td>\n",
       "      <td>NaN</td>\n",
       "      <td>NaN</td>\n",
       "      <td>NaN</td>\n",
       "      <td>...</td>\n",
       "      <td>128.526066</td>\n",
       "      <td>126.210895</td>\n",
       "      <td>125.809803</td>\n",
       "      <td>126.488546</td>\n",
       "      <td>127.263109</td>\n",
       "      <td>126.780158</td>\n",
       "      <td>128.366370</td>\n",
       "      <td>128.508266</td>\n",
       "      <td>NaN</td>\n",
       "      <td>NaN</td>\n",
       "    </tr>\n",
       "    <tr>\n",
       "      <th>AGO</th>\n",
       "      <td>Angola</td>\n",
       "      <td>NaN</td>\n",
       "      <td>NaN</td>\n",
       "      <td>NaN</td>\n",
       "      <td>NaN</td>\n",
       "      <td>NaN</td>\n",
       "      <td>NaN</td>\n",
       "      <td>NaN</td>\n",
       "      <td>NaN</td>\n",
       "      <td>NaN</td>\n",
       "      <td>...</td>\n",
       "      <td>200.848985</td>\n",
       "      <td>204.218118</td>\n",
       "      <td>207.504380</td>\n",
       "      <td>210.879490</td>\n",
       "      <td>214.157277</td>\n",
       "      <td>217.594986</td>\n",
       "      <td>221.293056</td>\n",
       "      <td>224.993357</td>\n",
       "      <td>NaN</td>\n",
       "      <td>NaN</td>\n",
       "    </tr>\n",
       "  </tbody>\n",
       "</table>\n",
       "<p>3 rows × 664 columns</p>\n",
       "</div>"
      ],
      "text/plain": [
       "                  Country  1970-01-01 00:00:00  1970-02-01 00:00:00  \\\n",
       "Country Code                                                          \n",
       "ABW                 Aruba                  NaN                  NaN   \n",
       "AFG           Afghanistan                  NaN                  NaN   \n",
       "AGO                Angola                  NaN                  NaN   \n",
       "\n",
       "              1970-03-01 00:00:00  1970-04-01 00:00:00  1970-05-01 00:00:00  \\\n",
       "Country Code                                                                  \n",
       "ABW                           NaN                  NaN                  NaN   \n",
       "AFG                           NaN                  NaN                  NaN   \n",
       "AGO                           NaN                  NaN                  NaN   \n",
       "\n",
       "              1970-06-01 00:00:00  1970-07-01 00:00:00  1970-08-01 00:00:00  \\\n",
       "Country Code                                                                  \n",
       "ABW                           NaN                  NaN                  NaN   \n",
       "AFG                           NaN                  NaN                  NaN   \n",
       "AGO                           NaN                  NaN                  NaN   \n",
       "\n",
       "              1970-09-01 00:00:00  ...  2024-06-01 00:00:00  \\\n",
       "Country Code                       ...                        \n",
       "ABW                           NaN  ...                  NaN   \n",
       "AFG                           NaN  ...           128.526066   \n",
       "AGO                           NaN  ...           200.848985   \n",
       "\n",
       "              2024-07-01 00:00:00  2024-08-01 00:00:00  2024-09-01 00:00:00  \\\n",
       "Country Code                                                                  \n",
       "ABW                           NaN                  NaN                  NaN   \n",
       "AFG                    126.210895           125.809803           126.488546   \n",
       "AGO                    204.218118           207.504380           210.879490   \n",
       "\n",
       "              2024-10-01 00:00:00  2024-11-01 00:00:00  2024-12-01 00:00:00  \\\n",
       "Country Code                                                                  \n",
       "ABW                           NaN                  NaN                  NaN   \n",
       "AFG                    127.263109           126.780158           128.366370   \n",
       "AGO                    214.157277           217.594986           221.293056   \n",
       "\n",
       "              2025-01-01 00:00:00  2025-02-01 00:00:00  2025-03-01 00:00:00  \n",
       "Country Code                                                                 \n",
       "ABW                           NaN                  NaN                  NaN  \n",
       "AFG                    128.508266                  NaN                  NaN  \n",
       "AGO                    224.993357                  NaN                  NaN  \n",
       "\n",
       "[3 rows x 664 columns]"
      ]
     },
     "execution_count": 194,
     "metadata": {},
     "output_type": "execute_result"
    }
   ],
   "source": [
    "hcpi_m = pd.read_excel(\"data/raw_data.xlsx\", sheet_name='hcpi_m', header=0)\n",
    "hcpi_m = hcpi_m.drop(columns=['IMF Country Code', 'Indicator Type', 'Series Name', 'Data source', 'Note'])\n",
    "hcpi_m = hcpi_m.drop(hcpi_m.index[-1])\n",
    "hcpi_m = hcpi_m.set_index('Country Code')\n",
    "hcpi_m.columns = [hcpi_m.columns[0]] + list(pd.to_datetime(hcpi_m.columns[1:], format=\"%Y%m\"))\n",
    "\n",
    "hcpi_m.head(3)"
   ]
  },
  {
   "cell_type": "markdown",
   "id": "856a287c",
   "metadata": {},
   "source": [
    "## Missing data analysis"
   ]
  },
  {
   "cell_type": "code",
   "execution_count": 195,
   "id": "fa8feecb",
   "metadata": {},
   "outputs": [
    {
     "data": {
      "image/png": "[encoded data removed]",
      "text/plain": [
       "<Figure size 2000x400 with 1 Axes>"
      ]
     },
     "metadata": {},
     "output_type": "display_data"
    }
   ],
   "source": [
    "# missing data per line\n",
    "missing_per_row = hcpi_m.isnull().sum(axis=1)\n",
    "\n",
    "plt.figure(figsize=(20, 4))\n",
    "plt.bar(missing_per_row.index, missing_per_row)\n",
    "plt.xlabel(\"Row Index\")\n",
    "plt.ylabel(\"Number of Missing Values\")\n",
    "plt.title(\"Missing Data per Country\")\n",
    "plt.xticks(rotation=45, fontsize=8)\n",
    "plt.axhline(y=hcpi_m.shape[1]-1, color='blue', linestyle='--', label='Number of Possible Observations')\n",
    "plt.tight_layout()\n",
    "plt.show()\n"
   ]
  },
  {
   "cell_type": "code",
   "execution_count": 196,
   "id": "b83402e1",
   "metadata": {},
   "outputs": [
    {
     "data": {
      "image/png": "[encoded data removed]",
      "text/plain": [
       "<Figure size 1500x400 with 1 Axes>"
      ]
     },
     "metadata": {},
     "output_type": "display_data"
    }
   ],
   "source": [
    "# missing data per column\n",
    "time_cols = hcpi_m.columns[1:]\n",
    "missing_per_month = hcpi_m[time_cols].isnull().sum()\n",
    "\n",
    "plt.figure(figsize=(15, 4))\n",
    "plt.plot(time_cols, missing_per_month.values, linestyle='-', marker='o', markersize=3)\n",
    "plt.xlabel(\"Time (Monthly)\")\n",
    "plt.ylabel(\"Missing Values\")\n",
    "plt.title(\"Missing Data per Month\")\n",
    "plt.grid(True, linestyle='--', alpha=0.5)\n",
    "plt.tight_layout()\n",
    "plt.show()"
   ]
  },
  {
   "cell_type": "markdown",
   "id": "296f4433",
   "metadata": {},
   "source": [
    "most of the missing data i would say is due to the fact that the data just starts being tracked from a certain date\n",
    "\n",
    "i wonder if there is missing data after the first date, if so, maybe we should interpolate the data\n",
    "\n",
    "lets check"
   ]
  },
  {
   "cell_type": "code",
   "execution_count": 197,
   "id": "53a0c683",
   "metadata": {},
   "outputs": [
    {
     "data": {
      "text/plain": [
       "{'BGR': 1, 'BLZ': 161, 'BRB': 2, 'GNB': 3, 'RUS': 30, 'SUR': 2, 'YEM': 11}"
      ]
     },
     "execution_count": 197,
     "metadata": {},
     "output_type": "execute_result"
    }
   ],
   "source": [
    "def get_missing_data():\n",
    "    results = {}\n",
    "    for i, row in hcpi_m.iterrows():\n",
    "        row_data = row[1:]\n",
    "\n",
    "        results[i] = {\n",
    "            \"first\": None,\n",
    "            \"last\": None,\n",
    "            \"missing\": None,\n",
    "        }\n",
    "\n",
    "        for col in hcpi_m.columns[1:]:\n",
    "\n",
    "            # Check if the value is not NaN\n",
    "            # and update the first and last columns accordingly\n",
    "            if pd.notna(row[col]):\n",
    "                results[i][\"first\"] = min(col, results[i][\"first\"]) if results[i][\"first\"] else col\n",
    "                results[i][\"last\"] = max(col, results[i][\"last\"]) if results[i][\"last\"] else col\n",
    "            \n",
    "            # Check if the value is NaN\n",
    "            # and update the missing columns accordingly\n",
    "            else:\n",
    "                if results[i][\"first\"] is not None:\n",
    "                    if results[i][\"missing\"] is None:\n",
    "                        results[i][\"missing\"] = [col]\n",
    "                    else:\n",
    "                        results[i][\"missing\"].append(col)\n",
    "        \n",
    "        # Make sure to not include missing values after the last value\n",
    "        missing_filtered = []\n",
    "        if results[i][\"missing\"]:\n",
    "            for missing in results[i][\"missing\"]:\n",
    "                if not missing > results[i][\"last\"]:\n",
    "                    missing_filtered.append(missing)\n",
    "            if missing_filtered != []:\n",
    "                results[i][\"missing\"] = missing_filtered\n",
    "            else:\n",
    "                results[i][\"missing\"] = None\n",
    "    \n",
    "    return results\n",
    "\n",
    "# Get the results\n",
    "results = get_missing_data()\n",
    "{k:len(results[k][\"missing\"]) for k,v in results.items() if results[k][\"missing\"] is not None}"
   ]
  },
  {
   "cell_type": "markdown",
   "id": "ab23e78f",
   "metadata": {},
   "source": [
    "some countries have that problem, lets check each one by hand and maybe use interpolation, change the first date, etc."
   ]
  },
  {
   "cell_type": "markdown",
   "id": "3aadbfc8",
   "metadata": {},
   "source": [
    "- BGR (1 missing value)"
   ]
  },
  {
   "cell_type": "code",
   "execution_count": 198,
   "id": "bdc6b50e",
   "metadata": {},
   "outputs": [
    {
     "data": {
      "text/plain": [
       "{'first': Timestamp('1995-01-01 00:00:00'),\n",
       " 'last': Timestamp('2025-03-01 00:00:00'),\n",
       " 'missing': [Timestamp('2025-01-01 00:00:00')]}"
      ]
     },
     "execution_count": 198,
     "metadata": {},
     "output_type": "execute_result"
    }
   ],
   "source": [
    "results[\"BGR\"]"
   ]
  },
  {
   "cell_type": "code",
   "execution_count": 199,
   "id": "2eaf331b",
   "metadata": {},
   "outputs": [
    {
     "data": {
      "text/plain": [
       "2024-11-01 00:00:00    9628.256655\n",
       "2024-12-01 00:00:00    9666.817433\n",
       "2025-01-01 00:00:00            NaN\n",
       "2025-02-01 00:00:00    9920.101163\n",
       "2025-03-01 00:00:00      9935.1779\n",
       "Name: BGR, dtype: object"
      ]
     },
     "execution_count": 199,
     "metadata": {},
     "output_type": "execute_result"
    }
   ],
   "source": [
    "hcpi_m.loc[\"BGR\", pd.Timestamp(\"2024-11\"):pd.Timestamp(\"2025-03\")]"
   ]
  },
  {
   "cell_type": "code",
   "execution_count": 200,
   "id": "4fff81e6",
   "metadata": {},
   "outputs": [
    {
     "name": "stdout",
     "output_type": "stream",
     "text": [
      "Interpolated value for BGR on 2025-01-01: 9793.459298005415\n"
     ]
    }
   ],
   "source": [
    "row = hcpi_m.loc[\"BGR\"].iloc[1:]\n",
    "value = row.astype(float).interpolate(method='linear').loc[pd.Timestamp(\"2025-01-01\")]\n",
    "hcpi_m.loc[\"BGR\", pd.Timestamp(\"2025-01-01\")] = value\n",
    "\n",
    "print(f\"Interpolated value for BGR on 2025-01-01: {hcpi_m.loc['BGR', pd.Timestamp('2025-01-01')]}\")"
   ]
  },
  {
   "cell_type": "markdown",
   "id": "0f1b04be",
   "metadata": {},
   "source": [
    "- BLZ (161 missing values)"
   ]
  },
  {
   "cell_type": "code",
   "execution_count": 201,
   "id": "600aaf33",
   "metadata": {},
   "outputs": [
    {
     "data": {
      "text/plain": [
       "(Timestamp('1990-11-01 00:00:00'), Timestamp('2025-02-01 00:00:00'))"
      ]
     },
     "execution_count": 201,
     "metadata": {},
     "output_type": "execute_result"
    }
   ],
   "source": [
    "#hcpi_m.loc[\"BLZ\"].to_csv(\"BLZ.csv\")\n",
    "\n",
    "# The problem is that the data is quarterly until 2011-01,\n",
    "# the easiest fix is to set the start date to 2011-01\n",
    "\n",
    "results[\"BLZ\"][\"first\"], results[\"BLZ\"][\"last\"]"
   ]
  },
  {
   "cell_type": "code",
   "execution_count": 202,
   "id": "c031cfba",
   "metadata": {},
   "outputs": [
    {
     "data": {
      "text/plain": [
       "2010-10-01 00:00:00          NaN\n",
       "2010-11-01 00:00:00    94.409328\n",
       "2010-12-01 00:00:00          NaN\n",
       "2011-01-01 00:00:00    95.490717\n",
       "2011-02-01 00:00:00    95.422967\n",
       "Name: BLZ, dtype: object"
      ]
     },
     "execution_count": 202,
     "metadata": {},
     "output_type": "execute_result"
    }
   ],
   "source": [
    "hcpi_m.loc[\"BLZ\", pd.Timestamp(\"2010-10\"):pd.Timestamp(\"2011-02\")]"
   ]
  },
  {
   "cell_type": "code",
   "execution_count": 203,
   "id": "6ea3c216",
   "metadata": {},
   "outputs": [],
   "source": [
    "hcpi_m.loc[\"BLZ\", pd.Timestamp(\"1990-11\"):pd.Timestamp(\"2010-12\")] = None"
   ]
  },
  {
   "cell_type": "markdown",
   "id": "0da28c7d",
   "metadata": {},
   "source": [
    "- BRB (2 missing values)"
   ]
  },
  {
   "cell_type": "code",
   "execution_count": 204,
   "id": "c9e48ec7",
   "metadata": {},
   "outputs": [
    {
     "data": {
      "text/plain": [
       "{'first': Timestamp('2010-01-01 00:00:00'),\n",
       " 'last': Timestamp('2024-11-01 00:00:00'),\n",
       " 'missing': [Timestamp('2020-04-01 00:00:00'),\n",
       "  Timestamp('2021-02-01 00:00:00')]}"
      ]
     },
     "execution_count": 204,
     "metadata": {},
     "output_type": "execute_result"
    }
   ],
   "source": [
    "results[\"BRB\"]"
   ]
  },
  {
   "cell_type": "code",
   "execution_count": 205,
   "id": "a1534fb5",
   "metadata": {},
   "outputs": [
    {
     "data": {
      "text/plain": [
       "2020-02-01 00:00:00    90.278685\n",
       "2020-03-01 00:00:00    90.417504\n",
       "2020-04-01 00:00:00          NaN\n",
       "2020-05-01 00:00:00    90.232412\n",
       "2020-06-01 00:00:00    89.908501\n",
       "Name: BRB, dtype: object"
      ]
     },
     "execution_count": 205,
     "metadata": {},
     "output_type": "execute_result"
    }
   ],
   "source": [
    "hcpi_m.loc[\"BRB\", pd.Timestamp(\"2020-02\"):pd.Timestamp(\"2020-06\")]"
   ]
  },
  {
   "cell_type": "code",
   "execution_count": 206,
   "id": "e0e9cb62",
   "metadata": {},
   "outputs": [
    {
     "data": {
      "text/plain": [
       "2020-12-01 00:00:00    93.517797\n",
       "2021-01-01 00:00:00    93.240159\n",
       "2021-02-01 00:00:00          NaN\n",
       "2021-03-01 00:00:00    91.435511\n",
       "2021-04-01 00:00:00    90.926508\n",
       "Name: BRB, dtype: object"
      ]
     },
     "execution_count": 206,
     "metadata": {},
     "output_type": "execute_result"
    }
   ],
   "source": [
    "hcpi_m.loc[\"BRB\", pd.Timestamp(\"2020-12\"):pd.Timestamp(\"2021-04\")]"
   ]
  },
  {
   "cell_type": "code",
   "execution_count": 207,
   "id": "0be67865",
   "metadata": {},
   "outputs": [
    {
     "name": "stdout",
     "output_type": "stream",
     "text": [
      "Interpolated value for BRB on 2020-04-01: 90.32495812395311\n",
      "Interpolated value for BRB on 2021-02-01: 92.33783500837521\n"
     ]
    }
   ],
   "source": [
    "row = hcpi_m.loc[\"BRB\"].iloc[1:]\n",
    "values = row.astype(float).interpolate(method='linear')\n",
    "hcpi_m.loc[\"BRB\", pd.Timestamp(\"2020-04-01\")] = values.loc[pd.Timestamp(\"2020-04-01\")]\n",
    "hcpi_m.loc[\"BRB\", pd.Timestamp(\"2021-02-01\")] = values.loc[pd.Timestamp(\"2021-02-01\")]\n",
    "\n",
    "print(f\"Interpolated value for BRB on 2020-04-01: {hcpi_m.loc['BRB', pd.Timestamp('2020-04-01')]}\")\n",
    "print(f\"Interpolated value for BRB on 2021-02-01: {hcpi_m.loc['BRB', pd.Timestamp('2021-02-01')]}\")"
   ]
  },
  {
   "cell_type": "markdown",
   "id": "2082f488",
   "metadata": {},
   "source": [
    "- GNB (3 missing values)"
   ]
  },
  {
   "cell_type": "code",
   "execution_count": 208,
   "id": "913d3ed7",
   "metadata": {},
   "outputs": [
    {
     "data": {
      "text/plain": [
       "{'first': Timestamp('2010-01-01 00:00:00'),\n",
       " 'last': Timestamp('2023-11-01 00:00:00'),\n",
       " 'missing': [Timestamp('2023-05-01 00:00:00'),\n",
       "  Timestamp('2023-06-01 00:00:00'),\n",
       "  Timestamp('2023-07-01 00:00:00')]}"
      ]
     },
     "execution_count": 208,
     "metadata": {},
     "output_type": "execute_result"
    }
   ],
   "source": [
    "results[\"GNB\"]"
   ]
  },
  {
   "cell_type": "code",
   "execution_count": 209,
   "id": "55492f3b",
   "metadata": {},
   "outputs": [
    {
     "data": {
      "text/plain": [
       "2023-02-01 00:00:00    125.4\n",
       "2023-03-01 00:00:00    125.5\n",
       "2023-04-01 00:00:00    126.4\n",
       "2023-05-01 00:00:00      NaN\n",
       "2023-06-01 00:00:00      NaN\n",
       "2023-07-01 00:00:00      NaN\n",
       "2023-08-01 00:00:00    128.3\n",
       "2023-09-01 00:00:00    126.9\n",
       "2023-10-01 00:00:00    126.6\n",
       "Name: GNB, dtype: object"
      ]
     },
     "execution_count": 209,
     "metadata": {},
     "output_type": "execute_result"
    }
   ],
   "source": [
    "hcpi_m.loc[\"GNB\", pd.Timestamp(\"2023-02\"):pd.Timestamp(\"2023-10\")]"
   ]
  },
  {
   "cell_type": "code",
   "execution_count": 210,
   "id": "ca8be1c2",
   "metadata": {},
   "outputs": [
    {
     "name": "stderr",
     "output_type": "stream",
     "text": [
      "/opt/anaconda3/envs/CAA02/lib/python3.10/site-packages/pandas/core/indexing.py:2421: FutureWarning: Dtype inference on a pandas object (Series, Index, ExtensionArray) is deprecated. The Index constructor will keep the original dtype in the future. Call `infer_objects` on the result to get the old behavior.\n",
      "  new_ix = Index(new_ix)\n"
     ]
    },
    {
     "data": {
      "text/plain": [
       "2023-02-01 00:00:00      125.4\n",
       "2023-03-01 00:00:00      125.5\n",
       "2023-04-01 00:00:00      126.4\n",
       "2023-05-01 00:00:00    126.875\n",
       "2023-06-01 00:00:00     127.35\n",
       "2023-07-01 00:00:00    127.825\n",
       "2023-08-01 00:00:00      128.3\n",
       "2023-09-01 00:00:00      126.9\n",
       "2023-10-01 00:00:00      126.6\n",
       "Name: GNB, dtype: object"
      ]
     },
     "execution_count": 210,
     "metadata": {},
     "output_type": "execute_result"
    }
   ],
   "source": [
    "row = hcpi_m.loc[\"GNB\"].iloc[1:]\n",
    "values = row.astype(float).interpolate(method='linear')\n",
    "hcpi_m.loc[\"GNB\", pd.Timestamp(\"2023-05-01\"):pd.Timestamp(\"2023-07-01\")] = values.loc[pd.Timestamp(\"2023-05-01\"):pd.Timestamp(\"2023-07-01\")]\n",
    "\n",
    "hcpi_m.loc[\"GNB\", pd.Timestamp(\"2023-02\"):pd.Timestamp(\"2023-10\")]"
   ]
  },
  {
   "cell_type": "markdown",
   "id": "b9a2b448",
   "metadata": {},
   "source": [
    "- RUS (30 missing values)"
   ]
  },
  {
   "cell_type": "code",
   "execution_count": null,
   "id": "6023d386",
   "metadata": {},
   "outputs": [
    {
     "data": {
      "text/plain": [
       "(Timestamp('1992-01-01 00:00:00'), Timestamp('2024-11-01 00:00:00'))"
      ]
     },
     "execution_count": 211,
     "metadata": {},
     "output_type": "execute_result"
    }
   ],
   "source": [
    "#hcpi_m.loc[\"RUS\"].to_csv(\"RUS.csv\")\n",
    "\n",
    "# The problem is that after 2022-03, the only observations are in 2023-08 and 2024-11,\n",
    "# so the easiest fix is to set the end date to 2022-03\n",
    "\n",
    "results[\"RUS\"][\"first\"], results[\"RUS\"][\"last\"]"
   ]
  },
  {
   "cell_type": "code",
   "execution_count": 212,
   "id": "d4b5a2d5",
   "metadata": {},
   "outputs": [],
   "source": [
    "hcpi_m.loc[\"RUS\", pd.Timestamp(\"2022-03\"):pd.Timestamp(\"2024-11\")] = None"
   ]
  },
  {
   "cell_type": "markdown",
   "id": "3c43d4ed",
   "metadata": {},
   "source": [
    "- SUR (2 missing values)"
   ]
  },
  {
   "cell_type": "code",
   "execution_count": 214,
   "id": "d20581fa",
   "metadata": {},
   "outputs": [
    {
     "data": {
      "text/plain": [
       "{'first': Timestamp('2005-01-01 00:00:00'),\n",
       " 'last': Timestamp('2025-02-01 00:00:00'),\n",
       " 'missing': [Timestamp('2018-05-01 00:00:00'),\n",
       "  Timestamp('2018-06-01 00:00:00')]}"
      ]
     },
     "execution_count": 214,
     "metadata": {},
     "output_type": "execute_result"
    }
   ],
   "source": [
    "results[\"SUR\"]"
   ]
  },
  {
   "cell_type": "code",
   "execution_count": 215,
   "id": "dafaea5f",
   "metadata": {},
   "outputs": [
    {
     "data": {
      "text/plain": [
       "2018-02-01 00:00:00    132.6\n",
       "2018-03-01 00:00:00    132.8\n",
       "2018-04-01 00:00:00    133.1\n",
       "2018-05-01 00:00:00      NaN\n",
       "2018-06-01 00:00:00      NaN\n",
       "2018-07-01 00:00:00    134.8\n",
       "2018-08-01 00:00:00    135.8\n",
       "2018-09-01 00:00:00    136.4\n",
       "Name: SUR, dtype: object"
      ]
     },
     "execution_count": 215,
     "metadata": {},
     "output_type": "execute_result"
    }
   ],
   "source": [
    "hcpi_m.loc[\"SUR\", pd.Timestamp(\"2018-02\"):pd.Timestamp(\"2018-09\")]"
   ]
  },
  {
   "cell_type": "code",
   "execution_count": 216,
   "id": "075edb4b",
   "metadata": {},
   "outputs": [
    {
     "name": "stderr",
     "output_type": "stream",
     "text": [
      "/opt/anaconda3/envs/CAA02/lib/python3.10/site-packages/pandas/core/indexing.py:2421: FutureWarning: Dtype inference on a pandas object (Series, Index, ExtensionArray) is deprecated. The Index constructor will keep the original dtype in the future. Call `infer_objects` on the result to get the old behavior.\n",
      "  new_ix = Index(new_ix)\n"
     ]
    },
    {
     "data": {
      "text/plain": [
       "2018-02-01 00:00:00         132.6\n",
       "2018-03-01 00:00:00         132.8\n",
       "2018-04-01 00:00:00         133.1\n",
       "2018-05-01 00:00:00    133.666667\n",
       "2018-06-01 00:00:00    134.233333\n",
       "2018-07-01 00:00:00         134.8\n",
       "2018-08-01 00:00:00         135.8\n",
       "2018-09-01 00:00:00         136.4\n",
       "Name: SUR, dtype: object"
      ]
     },
     "execution_count": 216,
     "metadata": {},
     "output_type": "execute_result"
    }
   ],
   "source": [
    "row = hcpi_m.loc[\"SUR\"].iloc[1:]\n",
    "values = row.astype(float).interpolate(method='linear')\n",
    "hcpi_m.loc[\"SUR\", pd.Timestamp(\"2018-05-01\"):pd.Timestamp(\"2018-06-01\")] = values.loc[pd.Timestamp(\"2018-05-01\"):pd.Timestamp(\"2018-06-01\")]\n",
    "\n",
    "hcpi_m.loc[\"SUR\", pd.Timestamp(\"2018-02\"):pd.Timestamp(\"2018-09\")]"
   ]
  },
  {
   "cell_type": "markdown",
   "id": "24638675",
   "metadata": {},
   "source": [
    "- YEM (11 missing values)"
   ]
  },
  {
   "cell_type": "code",
   "execution_count": null,
   "id": "5f91ca0b",
   "metadata": {},
   "outputs": [
    {
     "data": {
      "text/plain": [
       "(Timestamp('2010-01-01 00:00:00'), Timestamp('2015-12-01 00:00:00'))"
      ]
     },
     "execution_count": 219,
     "metadata": {},
     "output_type": "execute_result"
    }
   ],
   "source": [
    "#hcpi_m.loc[\"YEM\"].to_csv(\"YEM.csv\")\n",
    "\n",
    "# The problem is that after 2014-12, the only observation is in 2015-12,\n",
    "# the easiest fix is to set the end date to 2014-12\n",
    "\n",
    "results[\"YEM\"][\"first\"], results[\"YEM\"][\"last\"]"
   ]
  },
  {
   "cell_type": "code",
   "execution_count": 220,
   "id": "5e39ffcf",
   "metadata": {},
   "outputs": [],
   "source": [
    "hcpi_m.loc[\"YEM\", pd.Timestamp(\"2015-12\")] = None"
   ]
  },
  {
   "cell_type": "markdown",
   "id": "7050d178",
   "metadata": {},
   "source": [
    "lets check if now its all fixed"
   ]
  },
  {
   "cell_type": "code",
   "execution_count": 221,
   "id": "cf0f6bb4",
   "metadata": {},
   "outputs": [
    {
     "data": {
      "text/plain": [
       "{}"
      ]
     },
     "execution_count": 221,
     "metadata": {},
     "output_type": "execute_result"
    }
   ],
   "source": [
    "results = get_missing_data()\n",
    "{k:len(results[k][\"missing\"]) for k,v in results.items() if results[k][\"missing\"] is not None}"
   ]
  },
  {
   "cell_type": "markdown",
   "id": "1f485113",
   "metadata": {},
   "source": [
    "# Amounf of data analysis [AQUI AQUI]"
   ]
  },
  {
   "cell_type": "markdown",
   "id": "a38a2796",
   "metadata": {},
   "source": [
    "- ver qnt media de dados por pais\n",
    "\n",
    "- ver qnt de dados total\n",
    "\n",
    "- ver qnt de dados se usar diferentes janelas"
   ]
  },
  {
   "cell_type": "code",
   "execution_count": 222,
   "id": "634194a4",
   "metadata": {},
   "outputs": [
    {
     "data": {
      "text/html": [
       "<div>\n",
       "<style scoped>\n",
       "    .dataframe tbody tr th:only-of-type {\n",
       "        vertical-align: middle;\n",
       "    }\n",
       "\n",
       "    .dataframe tbody tr th {\n",
       "        vertical-align: top;\n",
       "    }\n",
       "\n",
       "    .dataframe thead th {\n",
       "        text-align: right;\n",
       "    }\n",
       "</style>\n",
       "<table border=\"1\" class=\"dataframe\">\n",
       "  <thead>\n",
       "    <tr style=\"text-align: right;\">\n",
       "      <th></th>\n",
       "      <th>Country</th>\n",
       "      <th>1970-01-01 00:00:00</th>\n",
       "      <th>1970-02-01 00:00:00</th>\n",
       "      <th>1970-03-01 00:00:00</th>\n",
       "      <th>1970-04-01 00:00:00</th>\n",
       "      <th>1970-05-01 00:00:00</th>\n",
       "      <th>1970-06-01 00:00:00</th>\n",
       "      <th>1970-07-01 00:00:00</th>\n",
       "      <th>1970-08-01 00:00:00</th>\n",
       "      <th>1970-09-01 00:00:00</th>\n",
       "      <th>...</th>\n",
       "      <th>2024-06-01 00:00:00</th>\n",
       "      <th>2024-07-01 00:00:00</th>\n",
       "      <th>2024-08-01 00:00:00</th>\n",
       "      <th>2024-09-01 00:00:00</th>\n",
       "      <th>2024-10-01 00:00:00</th>\n",
       "      <th>2024-11-01 00:00:00</th>\n",
       "      <th>2024-12-01 00:00:00</th>\n",
       "      <th>2025-01-01 00:00:00</th>\n",
       "      <th>2025-02-01 00:00:00</th>\n",
       "      <th>2025-03-01 00:00:00</th>\n",
       "    </tr>\n",
       "    <tr>\n",
       "      <th>Country Code</th>\n",
       "      <th></th>\n",
       "      <th></th>\n",
       "      <th></th>\n",
       "      <th></th>\n",
       "      <th></th>\n",
       "      <th></th>\n",
       "      <th></th>\n",
       "      <th></th>\n",
       "      <th></th>\n",
       "      <th></th>\n",
       "      <th></th>\n",
       "      <th></th>\n",
       "      <th></th>\n",
       "      <th></th>\n",
       "      <th></th>\n",
       "      <th></th>\n",
       "      <th></th>\n",
       "      <th></th>\n",
       "      <th></th>\n",
       "      <th></th>\n",
       "      <th></th>\n",
       "    </tr>\n",
       "  </thead>\n",
       "  <tbody>\n",
       "    <tr>\n",
       "      <th>ABW</th>\n",
       "      <td>Aruba</td>\n",
       "      <td>NaN</td>\n",
       "      <td>NaN</td>\n",
       "      <td>NaN</td>\n",
       "      <td>NaN</td>\n",
       "      <td>NaN</td>\n",
       "      <td>NaN</td>\n",
       "      <td>NaN</td>\n",
       "      <td>NaN</td>\n",
       "      <td>NaN</td>\n",
       "      <td>...</td>\n",
       "      <td>NaN</td>\n",
       "      <td>NaN</td>\n",
       "      <td>NaN</td>\n",
       "      <td>NaN</td>\n",
       "      <td>NaN</td>\n",
       "      <td>NaN</td>\n",
       "      <td>NaN</td>\n",
       "      <td>NaN</td>\n",
       "      <td>NaN</td>\n",
       "      <td>NaN</td>\n",
       "    </tr>\n",
       "    <tr>\n",
       "      <th>AFG</th>\n",
       "      <td>Afghanistan</td>\n",
       "      <td>NaN</td>\n",
       "      <td>NaN</td>\n",
       "      <td>NaN</td>\n",
       "      <td>NaN</td>\n",
       "      <td>NaN</td>\n",
       "      <td>NaN</td>\n",
       "      <td>NaN</td>\n",
       "      <td>NaN</td>\n",
       "      <td>NaN</td>\n",
       "      <td>...</td>\n",
       "      <td>128.526066</td>\n",
       "      <td>126.210895</td>\n",
       "      <td>125.809803</td>\n",
       "      <td>126.488546</td>\n",
       "      <td>127.263109</td>\n",
       "      <td>126.780158</td>\n",
       "      <td>128.366370</td>\n",
       "      <td>128.508266</td>\n",
       "      <td>NaN</td>\n",
       "      <td>NaN</td>\n",
       "    </tr>\n",
       "    <tr>\n",
       "      <th>AGO</th>\n",
       "      <td>Angola</td>\n",
       "      <td>NaN</td>\n",
       "      <td>NaN</td>\n",
       "      <td>NaN</td>\n",
       "      <td>NaN</td>\n",
       "      <td>NaN</td>\n",
       "      <td>NaN</td>\n",
       "      <td>NaN</td>\n",
       "      <td>NaN</td>\n",
       "      <td>NaN</td>\n",
       "      <td>...</td>\n",
       "      <td>200.848985</td>\n",
       "      <td>204.218118</td>\n",
       "      <td>207.504380</td>\n",
       "      <td>210.879490</td>\n",
       "      <td>214.157277</td>\n",
       "      <td>217.594986</td>\n",
       "      <td>221.293056</td>\n",
       "      <td>224.993357</td>\n",
       "      <td>NaN</td>\n",
       "      <td>NaN</td>\n",
       "    </tr>\n",
       "    <tr>\n",
       "      <th>ALB</th>\n",
       "      <td>Albania</td>\n",
       "      <td>NaN</td>\n",
       "      <td>NaN</td>\n",
       "      <td>NaN</td>\n",
       "      <td>NaN</td>\n",
       "      <td>NaN</td>\n",
       "      <td>NaN</td>\n",
       "      <td>NaN</td>\n",
       "      <td>NaN</td>\n",
       "      <td>NaN</td>\n",
       "      <td>...</td>\n",
       "      <td>116.392444</td>\n",
       "      <td>116.175161</td>\n",
       "      <td>116.775018</td>\n",
       "      <td>117.505130</td>\n",
       "      <td>117.630071</td>\n",
       "      <td>117.603379</td>\n",
       "      <td>118.251031</td>\n",
       "      <td>118.684513</td>\n",
       "      <td>119.053412</td>\n",
       "      <td>NaN</td>\n",
       "    </tr>\n",
       "    <tr>\n",
       "      <th>ARE</th>\n",
       "      <td>United Arab Emirates</td>\n",
       "      <td>NaN</td>\n",
       "      <td>NaN</td>\n",
       "      <td>NaN</td>\n",
       "      <td>NaN</td>\n",
       "      <td>NaN</td>\n",
       "      <td>NaN</td>\n",
       "      <td>NaN</td>\n",
       "      <td>NaN</td>\n",
       "      <td>NaN</td>\n",
       "      <td>...</td>\n",
       "      <td>108.369983</td>\n",
       "      <td>108.343931</td>\n",
       "      <td>108.820028</td>\n",
       "      <td>108.698979</td>\n",
       "      <td>108.362584</td>\n",
       "      <td>108.748894</td>\n",
       "      <td>108.849868</td>\n",
       "      <td>NaN</td>\n",
       "      <td>NaN</td>\n",
       "      <td>NaN</td>\n",
       "    </tr>\n",
       "    <tr>\n",
       "      <th>...</th>\n",
       "      <td>...</td>\n",
       "      <td>...</td>\n",
       "      <td>...</td>\n",
       "      <td>...</td>\n",
       "      <td>...</td>\n",
       "      <td>...</td>\n",
       "      <td>...</td>\n",
       "      <td>...</td>\n",
       "      <td>...</td>\n",
       "      <td>...</td>\n",
       "      <td>...</td>\n",
       "      <td>...</td>\n",
       "      <td>...</td>\n",
       "      <td>...</td>\n",
       "      <td>...</td>\n",
       "      <td>...</td>\n",
       "      <td>...</td>\n",
       "      <td>...</td>\n",
       "      <td>...</td>\n",
       "      <td>...</td>\n",
       "      <td>...</td>\n",
       "    </tr>\n",
       "    <tr>\n",
       "      <th>XKX</th>\n",
       "      <td>Kosovo</td>\n",
       "      <td>NaN</td>\n",
       "      <td>NaN</td>\n",
       "      <td>NaN</td>\n",
       "      <td>NaN</td>\n",
       "      <td>NaN</td>\n",
       "      <td>NaN</td>\n",
       "      <td>NaN</td>\n",
       "      <td>NaN</td>\n",
       "      <td>NaN</td>\n",
       "      <td>...</td>\n",
       "      <td>129.586912</td>\n",
       "      <td>129.940012</td>\n",
       "      <td>130.236657</td>\n",
       "      <td>129.784232</td>\n",
       "      <td>130.047853</td>\n",
       "      <td>130.269199</td>\n",
       "      <td>131.226848</td>\n",
       "      <td>132.158108</td>\n",
       "      <td>132.646793</td>\n",
       "      <td>NaN</td>\n",
       "    </tr>\n",
       "    <tr>\n",
       "      <th>YEM</th>\n",
       "      <td>Yemen, Rep.</td>\n",
       "      <td>NaN</td>\n",
       "      <td>NaN</td>\n",
       "      <td>NaN</td>\n",
       "      <td>NaN</td>\n",
       "      <td>NaN</td>\n",
       "      <td>NaN</td>\n",
       "      <td>NaN</td>\n",
       "      <td>NaN</td>\n",
       "      <td>NaN</td>\n",
       "      <td>...</td>\n",
       "      <td>NaN</td>\n",
       "      <td>NaN</td>\n",
       "      <td>NaN</td>\n",
       "      <td>NaN</td>\n",
       "      <td>NaN</td>\n",
       "      <td>NaN</td>\n",
       "      <td>NaN</td>\n",
       "      <td>NaN</td>\n",
       "      <td>NaN</td>\n",
       "      <td>NaN</td>\n",
       "    </tr>\n",
       "    <tr>\n",
       "      <th>ZAF</th>\n",
       "      <td>South Africa</td>\n",
       "      <td>1.750407</td>\n",
       "      <td>1.750407</td>\n",
       "      <td>1.750407</td>\n",
       "      <td>1.79647</td>\n",
       "      <td>1.79647</td>\n",
       "      <td>1.79647</td>\n",
       "      <td>1.79647</td>\n",
       "      <td>1.842533</td>\n",
       "      <td>1.842533</td>\n",
       "      <td>...</td>\n",
       "      <td>156.268800</td>\n",
       "      <td>156.897700</td>\n",
       "      <td>157.054900</td>\n",
       "      <td>157.212100</td>\n",
       "      <td>157.212100</td>\n",
       "      <td>157.054900</td>\n",
       "      <td>157.212100</td>\n",
       "      <td>157.683700</td>\n",
       "      <td>NaN</td>\n",
       "      <td>NaN</td>\n",
       "    </tr>\n",
       "    <tr>\n",
       "      <th>ZMB</th>\n",
       "      <td>Zambia</td>\n",
       "      <td>NaN</td>\n",
       "      <td>NaN</td>\n",
       "      <td>NaN</td>\n",
       "      <td>NaN</td>\n",
       "      <td>NaN</td>\n",
       "      <td>NaN</td>\n",
       "      <td>NaN</td>\n",
       "      <td>NaN</td>\n",
       "      <td>NaN</td>\n",
       "      <td>...</td>\n",
       "      <td>458.310000</td>\n",
       "      <td>462.910000</td>\n",
       "      <td>466.940000</td>\n",
       "      <td>470.590000</td>\n",
       "      <td>474.540000</td>\n",
       "      <td>482.140000</td>\n",
       "      <td>NaN</td>\n",
       "      <td>NaN</td>\n",
       "      <td>NaN</td>\n",
       "      <td>NaN</td>\n",
       "    </tr>\n",
       "    <tr>\n",
       "      <th>ZWE</th>\n",
       "      <td>Zimbabwe</td>\n",
       "      <td>NaN</td>\n",
       "      <td>NaN</td>\n",
       "      <td>NaN</td>\n",
       "      <td>NaN</td>\n",
       "      <td>NaN</td>\n",
       "      <td>NaN</td>\n",
       "      <td>NaN</td>\n",
       "      <td>NaN</td>\n",
       "      <td>NaN</td>\n",
       "      <td>...</td>\n",
       "      <td>NaN</td>\n",
       "      <td>NaN</td>\n",
       "      <td>NaN</td>\n",
       "      <td>NaN</td>\n",
       "      <td>NaN</td>\n",
       "      <td>NaN</td>\n",
       "      <td>NaN</td>\n",
       "      <td>NaN</td>\n",
       "      <td>NaN</td>\n",
       "      <td>NaN</td>\n",
       "    </tr>\n",
       "  </tbody>\n",
       "</table>\n",
       "<p>185 rows × 664 columns</p>\n",
       "</div>"
      ],
      "text/plain": [
       "                           Country  1970-01-01 00:00:00  1970-02-01 00:00:00  \\\n",
       "Country Code                                                                   \n",
       "ABW                          Aruba                  NaN                  NaN   \n",
       "AFG                    Afghanistan                  NaN                  NaN   \n",
       "AGO                         Angola                  NaN                  NaN   \n",
       "ALB                        Albania                  NaN                  NaN   \n",
       "ARE           United Arab Emirates                  NaN                  NaN   \n",
       "...                            ...                  ...                  ...   \n",
       "XKX                         Kosovo                  NaN                  NaN   \n",
       "YEM                    Yemen, Rep.                  NaN                  NaN   \n",
       "ZAF                   South Africa             1.750407             1.750407   \n",
       "ZMB                         Zambia                  NaN                  NaN   \n",
       "ZWE                       Zimbabwe                  NaN                  NaN   \n",
       "\n",
       "              1970-03-01 00:00:00  1970-04-01 00:00:00  1970-05-01 00:00:00  \\\n",
       "Country Code                                                                  \n",
       "ABW                           NaN                  NaN                  NaN   \n",
       "AFG                           NaN                  NaN                  NaN   \n",
       "AGO                           NaN                  NaN                  NaN   \n",
       "ALB                           NaN                  NaN                  NaN   \n",
       "ARE                           NaN                  NaN                  NaN   \n",
       "...                           ...                  ...                  ...   \n",
       "XKX                           NaN                  NaN                  NaN   \n",
       "YEM                           NaN                  NaN                  NaN   \n",
       "ZAF                      1.750407              1.79647              1.79647   \n",
       "ZMB                           NaN                  NaN                  NaN   \n",
       "ZWE                           NaN                  NaN                  NaN   \n",
       "\n",
       "              1970-06-01 00:00:00  1970-07-01 00:00:00  1970-08-01 00:00:00  \\\n",
       "Country Code                                                                  \n",
       "ABW                           NaN                  NaN                  NaN   \n",
       "AFG                           NaN                  NaN                  NaN   \n",
       "AGO                           NaN                  NaN                  NaN   \n",
       "ALB                           NaN                  NaN                  NaN   \n",
       "ARE                           NaN                  NaN                  NaN   \n",
       "...                           ...                  ...                  ...   \n",
       "XKX                           NaN                  NaN                  NaN   \n",
       "YEM                           NaN                  NaN                  NaN   \n",
       "ZAF                       1.79647              1.79647             1.842533   \n",
       "ZMB                           NaN                  NaN                  NaN   \n",
       "ZWE                           NaN                  NaN                  NaN   \n",
       "\n",
       "              1970-09-01 00:00:00  ...  2024-06-01 00:00:00  \\\n",
       "Country Code                       ...                        \n",
       "ABW                           NaN  ...                  NaN   \n",
       "AFG                           NaN  ...           128.526066   \n",
       "AGO                           NaN  ...           200.848985   \n",
       "ALB                           NaN  ...           116.392444   \n",
       "ARE                           NaN  ...           108.369983   \n",
       "...                           ...  ...                  ...   \n",
       "XKX                           NaN  ...           129.586912   \n",
       "YEM                           NaN  ...                  NaN   \n",
       "ZAF                      1.842533  ...           156.268800   \n",
       "ZMB                           NaN  ...           458.310000   \n",
       "ZWE                           NaN  ...                  NaN   \n",
       "\n",
       "              2024-07-01 00:00:00  2024-08-01 00:00:00  2024-09-01 00:00:00  \\\n",
       "Country Code                                                                  \n",
       "ABW                           NaN                  NaN                  NaN   \n",
       "AFG                    126.210895           125.809803           126.488546   \n",
       "AGO                    204.218118           207.504380           210.879490   \n",
       "ALB                    116.175161           116.775018           117.505130   \n",
       "ARE                    108.343931           108.820028           108.698979   \n",
       "...                           ...                  ...                  ...   \n",
       "XKX                    129.940012           130.236657           129.784232   \n",
       "YEM                           NaN                  NaN                  NaN   \n",
       "ZAF                    156.897700           157.054900           157.212100   \n",
       "ZMB                    462.910000           466.940000           470.590000   \n",
       "ZWE                           NaN                  NaN                  NaN   \n",
       "\n",
       "              2024-10-01 00:00:00  2024-11-01 00:00:00  2024-12-01 00:00:00  \\\n",
       "Country Code                                                                  \n",
       "ABW                           NaN                  NaN                  NaN   \n",
       "AFG                    127.263109           126.780158           128.366370   \n",
       "AGO                    214.157277           217.594986           221.293056   \n",
       "ALB                    117.630071           117.603379           118.251031   \n",
       "ARE                    108.362584           108.748894           108.849868   \n",
       "...                           ...                  ...                  ...   \n",
       "XKX                    130.047853           130.269199           131.226848   \n",
       "YEM                           NaN                  NaN                  NaN   \n",
       "ZAF                    157.212100           157.054900           157.212100   \n",
       "ZMB                    474.540000           482.140000                  NaN   \n",
       "ZWE                           NaN                  NaN                  NaN   \n",
       "\n",
       "              2025-01-01 00:00:00  2025-02-01 00:00:00  2025-03-01 00:00:00  \n",
       "Country Code                                                                 \n",
       "ABW                           NaN                  NaN                  NaN  \n",
       "AFG                    128.508266                  NaN                  NaN  \n",
       "AGO                    224.993357                  NaN                  NaN  \n",
       "ALB                    118.684513           119.053412                  NaN  \n",
       "ARE                           NaN                  NaN                  NaN  \n",
       "...                           ...                  ...                  ...  \n",
       "XKX                    132.158108           132.646793                  NaN  \n",
       "YEM                           NaN                  NaN                  NaN  \n",
       "ZAF                    157.683700                  NaN                  NaN  \n",
       "ZMB                           NaN                  NaN                  NaN  \n",
       "ZWE                           NaN                  NaN                  NaN  \n",
       "\n",
       "[185 rows x 664 columns]"
      ]
     },
     "execution_count": 222,
     "metadata": {},
     "output_type": "execute_result"
    }
   ],
   "source": [
    "hcpi_m"
   ]
  },
  {
   "cell_type": "code",
   "execution_count": null,
   "id": "86c7a022",
   "metadata": {},
   "outputs": [],
   "source": []
  }
 ],
 "metadata": {
  "kernelspec": {
   "display_name": "CAA02",
   "language": "python",
   "name": "python3"
  },
  "language_info": {
   "codemirror_mode": {
    "name": "ipython",
    "version": 3
   },
   "file_extension": ".py",
   "mimetype": "text/x-python",
   "name": "python",
   "nbconvert_exporter": "python",
   "pygments_lexer": "ipython3",
   "version": "3.10.17"
  }
 },
 "nbformat": 4,
 "nbformat_minor": 5
}
